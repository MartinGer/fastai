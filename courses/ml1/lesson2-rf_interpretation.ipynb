{
 "cells": [
  {
   "cell_type": "markdown",
   "metadata": {},
   "source": [
    "# Random Forest Model interpretation"
   ]
  },
  {
   "cell_type": "code",
   "execution_count": 1,
   "metadata": {},
   "outputs": [],
   "source": [
    "%load_ext autoreload\n",
    "%autoreload 2"
   ]
  },
  {
   "cell_type": "code",
   "execution_count": 2,
   "metadata": {},
   "outputs": [],
   "source": [
    "%matplotlib inline\n",
    "\n",
    "from fastai.imports import *\n",
    "from fastai.structured import *\n",
    "from pandas_summary import DataFrameSummary\n",
    "from sklearn.ensemble import RandomForestRegressor, RandomForestClassifier\n",
    "from IPython.display import display\n",
    "from sklearn import metrics"
   ]
  },
  {
   "cell_type": "code",
   "execution_count": 3,
   "metadata": {},
   "outputs": [],
   "source": [
    "set_plot_sizes(12,14,16)"
   ]
  },
  {
   "cell_type": "markdown",
   "metadata": {},
   "source": [
    "## Load in our data from last lesson"
   ]
  },
  {
   "cell_type": "code",
   "execution_count": 4,
   "metadata": {},
   "outputs": [
    {
     "data": {
      "text/plain": [
       "'0.23.4'"
      ]
     },
     "execution_count": 4,
     "metadata": {},
     "output_type": "execute_result"
    }
   ],
   "source": [
    "pd.__version__"
   ]
  },
  {
   "cell_type": "code",
   "execution_count": 5,
   "metadata": {},
   "outputs": [
    {
     "ename": "TypeError",
     "evalue": "read_feather() got an unexpected keyword argument 'nthreads'",
     "output_type": "error",
     "traceback": [
      "\u001b[1;31m---------------------------------------------------------------------------\u001b[0m",
      "\u001b[1;31mTypeError\u001b[0m                                 Traceback (most recent call last)",
      "\u001b[1;32m<ipython-input-5-fbd9c1355d97>\u001b[0m in \u001b[0;36m<module>\u001b[1;34m\u001b[0m\n\u001b[0;32m      1\u001b[0m \u001b[0mPATH\u001b[0m \u001b[1;33m=\u001b[0m \u001b[1;34m\"data/bulldozers/\"\u001b[0m\u001b[1;33m\u001b[0m\u001b[0m\n\u001b[0;32m      2\u001b[0m \u001b[1;33m\u001b[0m\u001b[0m\n\u001b[1;32m----> 3\u001b[1;33m \u001b[0mdf_raw\u001b[0m \u001b[1;33m=\u001b[0m \u001b[0mpd\u001b[0m\u001b[1;33m.\u001b[0m\u001b[0mread_feather\u001b[0m\u001b[1;33m(\u001b[0m\u001b[1;34m'tmp/bulldozers-raw'\u001b[0m\u001b[1;33m)\u001b[0m\u001b[1;33m\u001b[0m\u001b[0m\n\u001b[0m\u001b[0;32m      4\u001b[0m \u001b[0mdf_trn\u001b[0m\u001b[1;33m,\u001b[0m \u001b[0my_trn\u001b[0m\u001b[1;33m,\u001b[0m \u001b[0mnas\u001b[0m \u001b[1;33m=\u001b[0m \u001b[0mproc_df\u001b[0m\u001b[1;33m(\u001b[0m\u001b[0mdf_raw\u001b[0m\u001b[1;33m,\u001b[0m \u001b[1;34m'SalePrice'\u001b[0m\u001b[1;33m)\u001b[0m\u001b[1;33m\u001b[0m\u001b[0m\n",
      "\u001b[1;32mD:\\Anaconda3\\lib\\site-packages\\pandas\\io\\feather_format.py\u001b[0m in \u001b[0;36mread_feather\u001b[1;34m(path, nthreads)\u001b[0m\n\u001b[0;32m    110\u001b[0m         \u001b[1;32mreturn\u001b[0m \u001b[0mfeather\u001b[0m\u001b[1;33m.\u001b[0m\u001b[0mread_dataframe\u001b[0m\u001b[1;33m(\u001b[0m\u001b[0mpath\u001b[0m\u001b[1;33m)\u001b[0m\u001b[1;33m\u001b[0m\u001b[0m\n\u001b[0;32m    111\u001b[0m \u001b[1;33m\u001b[0m\u001b[0m\n\u001b[1;32m--> 112\u001b[1;33m     \u001b[1;32mreturn\u001b[0m \u001b[0mfeather\u001b[0m\u001b[1;33m.\u001b[0m\u001b[0mread_dataframe\u001b[0m\u001b[1;33m(\u001b[0m\u001b[0mpath\u001b[0m\u001b[1;33m,\u001b[0m \u001b[0mnthreads\u001b[0m\u001b[1;33m=\u001b[0m\u001b[0mnthreads\u001b[0m\u001b[1;33m)\u001b[0m\u001b[1;33m\u001b[0m\u001b[0m\n\u001b[0m",
      "\u001b[1;31mTypeError\u001b[0m: read_feather() got an unexpected keyword argument 'nthreads'"
     ]
    }
   ],
   "source": [
    "PATH = \"data/bulldozers/\"\n",
    "\n",
    "df_raw = pd.read_feather('tmp/bulldozers-raw')\n",
    "df_trn, y_trn, nas = proc_df(df_raw, 'SalePrice')"
   ]
  },
  {
   "cell_type": "code",
   "execution_count": 6,
   "metadata": {},
   "outputs": [],
   "source": [
    "import feather\n",
    "df_raw = feather.read_dataframe('tmp/bulldozers-raw')\n",
    "df_trn, y_trn, nas = proc_df(df_raw, 'SalePrice')"
   ]
  },
  {
   "cell_type": "code",
   "execution_count": 7,
   "metadata": {},
   "outputs": [],
   "source": [
    "def split_vals(a,n): return a[:n], a[n:]\n",
    "n_valid = 12000\n",
    "n_trn = len(df_trn)-n_valid\n",
    "X_train, X_valid = split_vals(df_trn, n_trn)\n",
    "y_train, y_valid = split_vals(y_trn, n_trn)\n",
    "raw_train, raw_valid = split_vals(df_raw, n_trn)"
   ]
  },
  {
   "cell_type": "code",
   "execution_count": 8,
   "metadata": {},
   "outputs": [],
   "source": [
    "def rmse(x,y): return math.sqrt(((x-y)**2).mean())\n",
    "\n",
    "def print_score(m):\n",
    "    res = [rmse(m.predict(X_train), y_train), rmse(m.predict(X_valid), y_valid),\n",
    "                m.score(X_train, y_train), m.score(X_valid, y_valid)]\n",
    "    if hasattr(m, 'oob_score_'): res.append(m.oob_score_)\n",
    "    print(res)"
   ]
  },
  {
   "cell_type": "code",
   "execution_count": 9,
   "metadata": {},
   "outputs": [
    {
     "data": {
      "text/html": [
       "<div>\n",
       "<style scoped>\n",
       "    .dataframe tbody tr th:only-of-type {\n",
       "        vertical-align: middle;\n",
       "    }\n",
       "\n",
       "    .dataframe tbody tr th {\n",
       "        vertical-align: top;\n",
       "    }\n",
       "\n",
       "    .dataframe thead th {\n",
       "        text-align: right;\n",
       "    }\n",
       "</style>\n",
       "<table border=\"1\" class=\"dataframe\">\n",
       "  <thead>\n",
       "    <tr style=\"text-align: right;\">\n",
       "      <th></th>\n",
       "      <th>SalesID</th>\n",
       "      <th>SalePrice</th>\n",
       "      <th>MachineID</th>\n",
       "      <th>ModelID</th>\n",
       "      <th>datasource</th>\n",
       "      <th>auctioneerID</th>\n",
       "      <th>YearMade</th>\n",
       "      <th>MachineHoursCurrentMeter</th>\n",
       "      <th>UsageBand</th>\n",
       "      <th>fiModelDesc</th>\n",
       "      <th>...</th>\n",
       "      <th>saleDay</th>\n",
       "      <th>saleDayofweek</th>\n",
       "      <th>saleDayofyear</th>\n",
       "      <th>saleIs_month_end</th>\n",
       "      <th>saleIs_month_start</th>\n",
       "      <th>saleIs_quarter_end</th>\n",
       "      <th>saleIs_quarter_start</th>\n",
       "      <th>saleIs_year_end</th>\n",
       "      <th>saleIs_year_start</th>\n",
       "      <th>saleElapsed</th>\n",
       "    </tr>\n",
       "  </thead>\n",
       "  <tbody>\n",
       "    <tr>\n",
       "      <th>0</th>\n",
       "      <td>1139246</td>\n",
       "      <td>11.097410</td>\n",
       "      <td>999089</td>\n",
       "      <td>3157</td>\n",
       "      <td>121</td>\n",
       "      <td>3.0</td>\n",
       "      <td>2004</td>\n",
       "      <td>68.0</td>\n",
       "      <td>2</td>\n",
       "      <td>521D</td>\n",
       "      <td>...</td>\n",
       "      <td>16</td>\n",
       "      <td>3</td>\n",
       "      <td>320</td>\n",
       "      <td>False</td>\n",
       "      <td>False</td>\n",
       "      <td>False</td>\n",
       "      <td>False</td>\n",
       "      <td>False</td>\n",
       "      <td>False</td>\n",
       "      <td>1163635200</td>\n",
       "    </tr>\n",
       "    <tr>\n",
       "      <th>1</th>\n",
       "      <td>1139248</td>\n",
       "      <td>10.950807</td>\n",
       "      <td>117657</td>\n",
       "      <td>77</td>\n",
       "      <td>121</td>\n",
       "      <td>3.0</td>\n",
       "      <td>1996</td>\n",
       "      <td>4640.0</td>\n",
       "      <td>2</td>\n",
       "      <td>950FII</td>\n",
       "      <td>...</td>\n",
       "      <td>26</td>\n",
       "      <td>4</td>\n",
       "      <td>86</td>\n",
       "      <td>False</td>\n",
       "      <td>False</td>\n",
       "      <td>False</td>\n",
       "      <td>False</td>\n",
       "      <td>False</td>\n",
       "      <td>False</td>\n",
       "      <td>1080259200</td>\n",
       "    </tr>\n",
       "    <tr>\n",
       "      <th>2</th>\n",
       "      <td>1139249</td>\n",
       "      <td>9.210340</td>\n",
       "      <td>434808</td>\n",
       "      <td>7009</td>\n",
       "      <td>121</td>\n",
       "      <td>3.0</td>\n",
       "      <td>2001</td>\n",
       "      <td>2838.0</td>\n",
       "      <td>0</td>\n",
       "      <td>226</td>\n",
       "      <td>...</td>\n",
       "      <td>26</td>\n",
       "      <td>3</td>\n",
       "      <td>57</td>\n",
       "      <td>False</td>\n",
       "      <td>False</td>\n",
       "      <td>False</td>\n",
       "      <td>False</td>\n",
       "      <td>False</td>\n",
       "      <td>False</td>\n",
       "      <td>1077753600</td>\n",
       "    </tr>\n",
       "    <tr>\n",
       "      <th>3</th>\n",
       "      <td>1139251</td>\n",
       "      <td>10.558414</td>\n",
       "      <td>1026470</td>\n",
       "      <td>332</td>\n",
       "      <td>121</td>\n",
       "      <td>3.0</td>\n",
       "      <td>2001</td>\n",
       "      <td>3486.0</td>\n",
       "      <td>0</td>\n",
       "      <td>PC120-6E</td>\n",
       "      <td>...</td>\n",
       "      <td>19</td>\n",
       "      <td>3</td>\n",
       "      <td>139</td>\n",
       "      <td>False</td>\n",
       "      <td>False</td>\n",
       "      <td>False</td>\n",
       "      <td>False</td>\n",
       "      <td>False</td>\n",
       "      <td>False</td>\n",
       "      <td>1305763200</td>\n",
       "    </tr>\n",
       "    <tr>\n",
       "      <th>4</th>\n",
       "      <td>1139253</td>\n",
       "      <td>9.305651</td>\n",
       "      <td>1057373</td>\n",
       "      <td>17311</td>\n",
       "      <td>121</td>\n",
       "      <td>3.0</td>\n",
       "      <td>2007</td>\n",
       "      <td>722.0</td>\n",
       "      <td>1</td>\n",
       "      <td>S175</td>\n",
       "      <td>...</td>\n",
       "      <td>23</td>\n",
       "      <td>3</td>\n",
       "      <td>204</td>\n",
       "      <td>False</td>\n",
       "      <td>False</td>\n",
       "      <td>False</td>\n",
       "      <td>False</td>\n",
       "      <td>False</td>\n",
       "      <td>False</td>\n",
       "      <td>1248307200</td>\n",
       "    </tr>\n",
       "    <tr>\n",
       "      <th>5</th>\n",
       "      <td>1139255</td>\n",
       "      <td>10.184900</td>\n",
       "      <td>1001274</td>\n",
       "      <td>4605</td>\n",
       "      <td>121</td>\n",
       "      <td>3.0</td>\n",
       "      <td>2004</td>\n",
       "      <td>508.0</td>\n",
       "      <td>2</td>\n",
       "      <td>310G</td>\n",
       "      <td>...</td>\n",
       "      <td>18</td>\n",
       "      <td>3</td>\n",
       "      <td>353</td>\n",
       "      <td>False</td>\n",
       "      <td>False</td>\n",
       "      <td>False</td>\n",
       "      <td>False</td>\n",
       "      <td>False</td>\n",
       "      <td>False</td>\n",
       "      <td>1229558400</td>\n",
       "    </tr>\n",
       "    <tr>\n",
       "      <th>6</th>\n",
       "      <td>1139256</td>\n",
       "      <td>9.952278</td>\n",
       "      <td>772701</td>\n",
       "      <td>1937</td>\n",
       "      <td>121</td>\n",
       "      <td>3.0</td>\n",
       "      <td>1993</td>\n",
       "      <td>11540.0</td>\n",
       "      <td>0</td>\n",
       "      <td>790ELC</td>\n",
       "      <td>...</td>\n",
       "      <td>26</td>\n",
       "      <td>3</td>\n",
       "      <td>239</td>\n",
       "      <td>False</td>\n",
       "      <td>False</td>\n",
       "      <td>False</td>\n",
       "      <td>False</td>\n",
       "      <td>False</td>\n",
       "      <td>False</td>\n",
       "      <td>1093478400</td>\n",
       "    </tr>\n",
       "    <tr>\n",
       "      <th>7</th>\n",
       "      <td>1139261</td>\n",
       "      <td>10.203592</td>\n",
       "      <td>902002</td>\n",
       "      <td>3539</td>\n",
       "      <td>121</td>\n",
       "      <td>3.0</td>\n",
       "      <td>2001</td>\n",
       "      <td>4883.0</td>\n",
       "      <td>0</td>\n",
       "      <td>416D</td>\n",
       "      <td>...</td>\n",
       "      <td>17</td>\n",
       "      <td>3</td>\n",
       "      <td>321</td>\n",
       "      <td>False</td>\n",
       "      <td>False</td>\n",
       "      <td>False</td>\n",
       "      <td>False</td>\n",
       "      <td>False</td>\n",
       "      <td>False</td>\n",
       "      <td>1132185600</td>\n",
       "    </tr>\n",
       "    <tr>\n",
       "      <th>8</th>\n",
       "      <td>1139272</td>\n",
       "      <td>9.975808</td>\n",
       "      <td>1036251</td>\n",
       "      <td>36003</td>\n",
       "      <td>121</td>\n",
       "      <td>3.0</td>\n",
       "      <td>2008</td>\n",
       "      <td>302.0</td>\n",
       "      <td>2</td>\n",
       "      <td>430HAG</td>\n",
       "      <td>...</td>\n",
       "      <td>27</td>\n",
       "      <td>3</td>\n",
       "      <td>239</td>\n",
       "      <td>False</td>\n",
       "      <td>False</td>\n",
       "      <td>False</td>\n",
       "      <td>False</td>\n",
       "      <td>False</td>\n",
       "      <td>False</td>\n",
       "      <td>1251331200</td>\n",
       "    </tr>\n",
       "    <tr>\n",
       "      <th>9</th>\n",
       "      <td>1139275</td>\n",
       "      <td>11.082143</td>\n",
       "      <td>1016474</td>\n",
       "      <td>3883</td>\n",
       "      <td>121</td>\n",
       "      <td>3.0</td>\n",
       "      <td>1000</td>\n",
       "      <td>20700.0</td>\n",
       "      <td>1</td>\n",
       "      <td>988B</td>\n",
       "      <td>...</td>\n",
       "      <td>9</td>\n",
       "      <td>3</td>\n",
       "      <td>221</td>\n",
       "      <td>False</td>\n",
       "      <td>False</td>\n",
       "      <td>False</td>\n",
       "      <td>False</td>\n",
       "      <td>False</td>\n",
       "      <td>False</td>\n",
       "      <td>1186617600</td>\n",
       "    </tr>\n",
       "    <tr>\n",
       "      <th>10</th>\n",
       "      <td>1139278</td>\n",
       "      <td>10.085809</td>\n",
       "      <td>1024998</td>\n",
       "      <td>4605</td>\n",
       "      <td>121</td>\n",
       "      <td>3.0</td>\n",
       "      <td>2004</td>\n",
       "      <td>1414.0</td>\n",
       "      <td>1</td>\n",
       "      <td>310G</td>\n",
       "      <td>...</td>\n",
       "      <td>21</td>\n",
       "      <td>3</td>\n",
       "      <td>234</td>\n",
       "      <td>False</td>\n",
       "      <td>False</td>\n",
       "      <td>False</td>\n",
       "      <td>False</td>\n",
       "      <td>False</td>\n",
       "      <td>False</td>\n",
       "      <td>1219276800</td>\n",
       "    </tr>\n",
       "    <tr>\n",
       "      <th>11</th>\n",
       "      <td>1139282</td>\n",
       "      <td>10.021271</td>\n",
       "      <td>319906</td>\n",
       "      <td>5255</td>\n",
       "      <td>121</td>\n",
       "      <td>3.0</td>\n",
       "      <td>1998</td>\n",
       "      <td>2764.0</td>\n",
       "      <td>2</td>\n",
       "      <td>D31E</td>\n",
       "      <td>...</td>\n",
       "      <td>24</td>\n",
       "      <td>3</td>\n",
       "      <td>236</td>\n",
       "      <td>False</td>\n",
       "      <td>False</td>\n",
       "      <td>False</td>\n",
       "      <td>False</td>\n",
       "      <td>False</td>\n",
       "      <td>False</td>\n",
       "      <td>1156377600</td>\n",
       "    </tr>\n",
       "    <tr>\n",
       "      <th>12</th>\n",
       "      <td>1139283</td>\n",
       "      <td>10.491274</td>\n",
       "      <td>1052214</td>\n",
       "      <td>2232</td>\n",
       "      <td>121</td>\n",
       "      <td>3.0</td>\n",
       "      <td>1998</td>\n",
       "      <td>0.0</td>\n",
       "      <td>-1</td>\n",
       "      <td>PC200LC6</td>\n",
       "      <td>...</td>\n",
       "      <td>20</td>\n",
       "      <td>3</td>\n",
       "      <td>293</td>\n",
       "      <td>False</td>\n",
       "      <td>False</td>\n",
       "      <td>False</td>\n",
       "      <td>False</td>\n",
       "      <td>False</td>\n",
       "      <td>False</td>\n",
       "      <td>1129766400</td>\n",
       "    </tr>\n",
       "    <tr>\n",
       "      <th>13</th>\n",
       "      <td>1139284</td>\n",
       "      <td>10.325482</td>\n",
       "      <td>1068082</td>\n",
       "      <td>3542</td>\n",
       "      <td>121</td>\n",
       "      <td>3.0</td>\n",
       "      <td>2001</td>\n",
       "      <td>1921.0</td>\n",
       "      <td>1</td>\n",
       "      <td>420D</td>\n",
       "      <td>...</td>\n",
       "      <td>26</td>\n",
       "      <td>3</td>\n",
       "      <td>26</td>\n",
       "      <td>False</td>\n",
       "      <td>False</td>\n",
       "      <td>False</td>\n",
       "      <td>False</td>\n",
       "      <td>False</td>\n",
       "      <td>False</td>\n",
       "      <td>1138233600</td>\n",
       "    </tr>\n",
       "    <tr>\n",
       "      <th>14</th>\n",
       "      <td>1139290</td>\n",
       "      <td>10.239960</td>\n",
       "      <td>1058450</td>\n",
       "      <td>5162</td>\n",
       "      <td>121</td>\n",
       "      <td>3.0</td>\n",
       "      <td>2004</td>\n",
       "      <td>320.0</td>\n",
       "      <td>2</td>\n",
       "      <td>214E</td>\n",
       "      <td>...</td>\n",
       "      <td>3</td>\n",
       "      <td>1</td>\n",
       "      <td>3</td>\n",
       "      <td>False</td>\n",
       "      <td>False</td>\n",
       "      <td>False</td>\n",
       "      <td>False</td>\n",
       "      <td>False</td>\n",
       "      <td>False</td>\n",
       "      <td>1136246400</td>\n",
       "    </tr>\n",
       "    <tr>\n",
       "      <th>15</th>\n",
       "      <td>1139291</td>\n",
       "      <td>9.852194</td>\n",
       "      <td>1004810</td>\n",
       "      <td>4604</td>\n",
       "      <td>121</td>\n",
       "      <td>3.0</td>\n",
       "      <td>1999</td>\n",
       "      <td>2450.0</td>\n",
       "      <td>1</td>\n",
       "      <td>310E</td>\n",
       "      <td>...</td>\n",
       "      <td>16</td>\n",
       "      <td>3</td>\n",
       "      <td>320</td>\n",
       "      <td>False</td>\n",
       "      <td>False</td>\n",
       "      <td>False</td>\n",
       "      <td>False</td>\n",
       "      <td>False</td>\n",
       "      <td>False</td>\n",
       "      <td>1163635200</td>\n",
       "    </tr>\n",
       "    <tr>\n",
       "      <th>16</th>\n",
       "      <td>1139292</td>\n",
       "      <td>9.510445</td>\n",
       "      <td>1026973</td>\n",
       "      <td>9510</td>\n",
       "      <td>121</td>\n",
       "      <td>3.0</td>\n",
       "      <td>1999</td>\n",
       "      <td>1972.0</td>\n",
       "      <td>2</td>\n",
       "      <td>334</td>\n",
       "      <td>...</td>\n",
       "      <td>14</td>\n",
       "      <td>3</td>\n",
       "      <td>165</td>\n",
       "      <td>False</td>\n",
       "      <td>False</td>\n",
       "      <td>False</td>\n",
       "      <td>False</td>\n",
       "      <td>False</td>\n",
       "      <td>False</td>\n",
       "      <td>1181779200</td>\n",
       "    </tr>\n",
       "    <tr>\n",
       "      <th>17</th>\n",
       "      <td>1139299</td>\n",
       "      <td>9.159047</td>\n",
       "      <td>1002713</td>\n",
       "      <td>21442</td>\n",
       "      <td>121</td>\n",
       "      <td>3.0</td>\n",
       "      <td>2003</td>\n",
       "      <td>0.0</td>\n",
       "      <td>-1</td>\n",
       "      <td>45NX</td>\n",
       "      <td>...</td>\n",
       "      <td>28</td>\n",
       "      <td>3</td>\n",
       "      <td>28</td>\n",
       "      <td>False</td>\n",
       "      <td>False</td>\n",
       "      <td>False</td>\n",
       "      <td>False</td>\n",
       "      <td>False</td>\n",
       "      <td>False</td>\n",
       "      <td>1264636800</td>\n",
       "    </tr>\n",
       "    <tr>\n",
       "      <th>18</th>\n",
       "      <td>1139301</td>\n",
       "      <td>9.433484</td>\n",
       "      <td>125790</td>\n",
       "      <td>7040</td>\n",
       "      <td>121</td>\n",
       "      <td>3.0</td>\n",
       "      <td>2001</td>\n",
       "      <td>994.0</td>\n",
       "      <td>2</td>\n",
       "      <td>302.5</td>\n",
       "      <td>...</td>\n",
       "      <td>9</td>\n",
       "      <td>3</td>\n",
       "      <td>68</td>\n",
       "      <td>False</td>\n",
       "      <td>False</td>\n",
       "      <td>False</td>\n",
       "      <td>False</td>\n",
       "      <td>False</td>\n",
       "      <td>False</td>\n",
       "      <td>1141862400</td>\n",
       "    </tr>\n",
       "    <tr>\n",
       "      <th>19</th>\n",
       "      <td>1139304</td>\n",
       "      <td>9.350102</td>\n",
       "      <td>1011914</td>\n",
       "      <td>3177</td>\n",
       "      <td>121</td>\n",
       "      <td>3.0</td>\n",
       "      <td>1991</td>\n",
       "      <td>8005.0</td>\n",
       "      <td>1</td>\n",
       "      <td>580SUPER K</td>\n",
       "      <td>...</td>\n",
       "      <td>17</td>\n",
       "      <td>3</td>\n",
       "      <td>321</td>\n",
       "      <td>False</td>\n",
       "      <td>False</td>\n",
       "      <td>False</td>\n",
       "      <td>False</td>\n",
       "      <td>False</td>\n",
       "      <td>False</td>\n",
       "      <td>1132185600</td>\n",
       "    </tr>\n",
       "    <tr>\n",
       "      <th>20</th>\n",
       "      <td>1139311</td>\n",
       "      <td>10.621327</td>\n",
       "      <td>1014135</td>\n",
       "      <td>8867</td>\n",
       "      <td>121</td>\n",
       "      <td>3.0</td>\n",
       "      <td>2000</td>\n",
       "      <td>3259.0</td>\n",
       "      <td>1</td>\n",
       "      <td>JS260</td>\n",
       "      <td>...</td>\n",
       "      <td>18</td>\n",
       "      <td>3</td>\n",
       "      <td>138</td>\n",
       "      <td>False</td>\n",
       "      <td>False</td>\n",
       "      <td>False</td>\n",
       "      <td>False</td>\n",
       "      <td>False</td>\n",
       "      <td>False</td>\n",
       "      <td>1147910400</td>\n",
       "    </tr>\n",
       "    <tr>\n",
       "      <th>21</th>\n",
       "      <td>1139333</td>\n",
       "      <td>10.448715</td>\n",
       "      <td>999192</td>\n",
       "      <td>3350</td>\n",
       "      <td>121</td>\n",
       "      <td>3.0</td>\n",
       "      <td>1000</td>\n",
       "      <td>16328.0</td>\n",
       "      <td>1</td>\n",
       "      <td>120G</td>\n",
       "      <td>...</td>\n",
       "      <td>19</td>\n",
       "      <td>3</td>\n",
       "      <td>292</td>\n",
       "      <td>False</td>\n",
       "      <td>False</td>\n",
       "      <td>False</td>\n",
       "      <td>False</td>\n",
       "      <td>False</td>\n",
       "      <td>False</td>\n",
       "      <td>1161216000</td>\n",
       "    </tr>\n",
       "    <tr>\n",
       "      <th>22</th>\n",
       "      <td>1139344</td>\n",
       "      <td>10.165852</td>\n",
       "      <td>1044500</td>\n",
       "      <td>7040</td>\n",
       "      <td>121</td>\n",
       "      <td>3.0</td>\n",
       "      <td>2005</td>\n",
       "      <td>109.0</td>\n",
       "      <td>2</td>\n",
       "      <td>302.5</td>\n",
       "      <td>...</td>\n",
       "      <td>25</td>\n",
       "      <td>3</td>\n",
       "      <td>298</td>\n",
       "      <td>False</td>\n",
       "      <td>False</td>\n",
       "      <td>False</td>\n",
       "      <td>False</td>\n",
       "      <td>False</td>\n",
       "      <td>False</td>\n",
       "      <td>1193270400</td>\n",
       "    </tr>\n",
       "    <tr>\n",
       "      <th>23</th>\n",
       "      <td>1139346</td>\n",
       "      <td>11.198215</td>\n",
       "      <td>821452</td>\n",
       "      <td>85</td>\n",
       "      <td>121</td>\n",
       "      <td>3.0</td>\n",
       "      <td>1996</td>\n",
       "      <td>17033.0</td>\n",
       "      <td>0</td>\n",
       "      <td>966FII</td>\n",
       "      <td>...</td>\n",
       "      <td>19</td>\n",
       "      <td>3</td>\n",
       "      <td>292</td>\n",
       "      <td>False</td>\n",
       "      <td>False</td>\n",
       "      <td>False</td>\n",
       "      <td>False</td>\n",
       "      <td>False</td>\n",
       "      <td>False</td>\n",
       "      <td>1161216000</td>\n",
       "    </tr>\n",
       "    <tr>\n",
       "      <th>24</th>\n",
       "      <td>1139348</td>\n",
       "      <td>10.404263</td>\n",
       "      <td>294562</td>\n",
       "      <td>3542</td>\n",
       "      <td>121</td>\n",
       "      <td>3.0</td>\n",
       "      <td>2001</td>\n",
       "      <td>1877.0</td>\n",
       "      <td>1</td>\n",
       "      <td>420D</td>\n",
       "      <td>...</td>\n",
       "      <td>20</td>\n",
       "      <td>3</td>\n",
       "      <td>141</td>\n",
       "      <td>False</td>\n",
       "      <td>False</td>\n",
       "      <td>False</td>\n",
       "      <td>False</td>\n",
       "      <td>False</td>\n",
       "      <td>False</td>\n",
       "      <td>1085011200</td>\n",
       "    </tr>\n",
       "    <tr>\n",
       "      <th>25</th>\n",
       "      <td>1139351</td>\n",
       "      <td>9.433484</td>\n",
       "      <td>833838</td>\n",
       "      <td>7009</td>\n",
       "      <td>121</td>\n",
       "      <td>3.0</td>\n",
       "      <td>2003</td>\n",
       "      <td>1028.0</td>\n",
       "      <td>1</td>\n",
       "      <td>226</td>\n",
       "      <td>...</td>\n",
       "      <td>9</td>\n",
       "      <td>3</td>\n",
       "      <td>68</td>\n",
       "      <td>False</td>\n",
       "      <td>False</td>\n",
       "      <td>False</td>\n",
       "      <td>False</td>\n",
       "      <td>False</td>\n",
       "      <td>False</td>\n",
       "      <td>1141862400</td>\n",
       "    </tr>\n",
       "    <tr>\n",
       "      <th>26</th>\n",
       "      <td>1139354</td>\n",
       "      <td>9.648595</td>\n",
       "      <td>565440</td>\n",
       "      <td>7040</td>\n",
       "      <td>121</td>\n",
       "      <td>3.0</td>\n",
       "      <td>2003</td>\n",
       "      <td>356.0</td>\n",
       "      <td>2</td>\n",
       "      <td>302.5</td>\n",
       "      <td>...</td>\n",
       "      <td>9</td>\n",
       "      <td>3</td>\n",
       "      <td>68</td>\n",
       "      <td>False</td>\n",
       "      <td>False</td>\n",
       "      <td>False</td>\n",
       "      <td>False</td>\n",
       "      <td>False</td>\n",
       "      <td>False</td>\n",
       "      <td>1141862400</td>\n",
       "    </tr>\n",
       "    <tr>\n",
       "      <th>27</th>\n",
       "      <td>1139356</td>\n",
       "      <td>10.878047</td>\n",
       "      <td>1004127</td>\n",
       "      <td>25458</td>\n",
       "      <td>121</td>\n",
       "      <td>3.0</td>\n",
       "      <td>2000</td>\n",
       "      <td>0.0</td>\n",
       "      <td>-1</td>\n",
       "      <td>EX550STD</td>\n",
       "      <td>...</td>\n",
       "      <td>22</td>\n",
       "      <td>3</td>\n",
       "      <td>53</td>\n",
       "      <td>False</td>\n",
       "      <td>False</td>\n",
       "      <td>False</td>\n",
       "      <td>False</td>\n",
       "      <td>False</td>\n",
       "      <td>False</td>\n",
       "      <td>1172102400</td>\n",
       "    </tr>\n",
       "    <tr>\n",
       "      <th>28</th>\n",
       "      <td>1139357</td>\n",
       "      <td>10.736397</td>\n",
       "      <td>44800</td>\n",
       "      <td>19167</td>\n",
       "      <td>121</td>\n",
       "      <td>3.0</td>\n",
       "      <td>2004</td>\n",
       "      <td>904.0</td>\n",
       "      <td>2</td>\n",
       "      <td>685B</td>\n",
       "      <td>...</td>\n",
       "      <td>9</td>\n",
       "      <td>3</td>\n",
       "      <td>221</td>\n",
       "      <td>False</td>\n",
       "      <td>False</td>\n",
       "      <td>False</td>\n",
       "      <td>False</td>\n",
       "      <td>False</td>\n",
       "      <td>False</td>\n",
       "      <td>1186617600</td>\n",
       "    </tr>\n",
       "    <tr>\n",
       "      <th>29</th>\n",
       "      <td>1139358</td>\n",
       "      <td>11.396392</td>\n",
       "      <td>1018076</td>\n",
       "      <td>1333</td>\n",
       "      <td>121</td>\n",
       "      <td>3.0</td>\n",
       "      <td>1998</td>\n",
       "      <td>10466.0</td>\n",
       "      <td>1</td>\n",
       "      <td>345BL</td>\n",
       "      <td>...</td>\n",
       "      <td>1</td>\n",
       "      <td>3</td>\n",
       "      <td>152</td>\n",
       "      <td>False</td>\n",
       "      <td>True</td>\n",
       "      <td>False</td>\n",
       "      <td>False</td>\n",
       "      <td>False</td>\n",
       "      <td>False</td>\n",
       "      <td>1149120000</td>\n",
       "    </tr>\n",
       "    <tr>\n",
       "      <th>...</th>\n",
       "      <td>...</td>\n",
       "      <td>...</td>\n",
       "      <td>...</td>\n",
       "      <td>...</td>\n",
       "      <td>...</td>\n",
       "      <td>...</td>\n",
       "      <td>...</td>\n",
       "      <td>...</td>\n",
       "      <td>...</td>\n",
       "      <td>...</td>\n",
       "      <td>...</td>\n",
       "      <td>...</td>\n",
       "      <td>...</td>\n",
       "      <td>...</td>\n",
       "      <td>...</td>\n",
       "      <td>...</td>\n",
       "      <td>...</td>\n",
       "      <td>...</td>\n",
       "      <td>...</td>\n",
       "      <td>...</td>\n",
       "      <td>...</td>\n",
       "    </tr>\n",
       "    <tr>\n",
       "      <th>401095</th>\n",
       "      <td>6333259</td>\n",
       "      <td>9.259131</td>\n",
       "      <td>1872639</td>\n",
       "      <td>21437</td>\n",
       "      <td>149</td>\n",
       "      <td>1.0</td>\n",
       "      <td>2003</td>\n",
       "      <td>NaN</td>\n",
       "      <td>-1</td>\n",
       "      <td>35N</td>\n",
       "      <td>...</td>\n",
       "      <td>14</td>\n",
       "      <td>2</td>\n",
       "      <td>348</td>\n",
       "      <td>False</td>\n",
       "      <td>False</td>\n",
       "      <td>False</td>\n",
       "      <td>False</td>\n",
       "      <td>False</td>\n",
       "      <td>False</td>\n",
       "      <td>1323820800</td>\n",
       "    </tr>\n",
       "    <tr>\n",
       "      <th>401096</th>\n",
       "      <td>6333260</td>\n",
       "      <td>9.210340</td>\n",
       "      <td>1816341</td>\n",
       "      <td>21437</td>\n",
       "      <td>149</td>\n",
       "      <td>2.0</td>\n",
       "      <td>2004</td>\n",
       "      <td>NaN</td>\n",
       "      <td>-1</td>\n",
       "      <td>35N</td>\n",
       "      <td>...</td>\n",
       "      <td>15</td>\n",
       "      <td>3</td>\n",
       "      <td>258</td>\n",
       "      <td>False</td>\n",
       "      <td>False</td>\n",
       "      <td>False</td>\n",
       "      <td>False</td>\n",
       "      <td>False</td>\n",
       "      <td>False</td>\n",
       "      <td>1316044800</td>\n",
       "    </tr>\n",
       "    <tr>\n",
       "      <th>401097</th>\n",
       "      <td>6333261</td>\n",
       "      <td>9.047821</td>\n",
       "      <td>1843949</td>\n",
       "      <td>21437</td>\n",
       "      <td>149</td>\n",
       "      <td>1.0</td>\n",
       "      <td>2005</td>\n",
       "      <td>NaN</td>\n",
       "      <td>-1</td>\n",
       "      <td>35N</td>\n",
       "      <td>...</td>\n",
       "      <td>28</td>\n",
       "      <td>4</td>\n",
       "      <td>301</td>\n",
       "      <td>False</td>\n",
       "      <td>False</td>\n",
       "      <td>False</td>\n",
       "      <td>False</td>\n",
       "      <td>False</td>\n",
       "      <td>False</td>\n",
       "      <td>1319760000</td>\n",
       "    </tr>\n",
       "    <tr>\n",
       "      <th>401098</th>\n",
       "      <td>6333262</td>\n",
       "      <td>9.259131</td>\n",
       "      <td>1791341</td>\n",
       "      <td>21437</td>\n",
       "      <td>149</td>\n",
       "      <td>2.0</td>\n",
       "      <td>2004</td>\n",
       "      <td>NaN</td>\n",
       "      <td>-1</td>\n",
       "      <td>35N</td>\n",
       "      <td>...</td>\n",
       "      <td>16</td>\n",
       "      <td>1</td>\n",
       "      <td>228</td>\n",
       "      <td>False</td>\n",
       "      <td>False</td>\n",
       "      <td>False</td>\n",
       "      <td>False</td>\n",
       "      <td>False</td>\n",
       "      <td>False</td>\n",
       "      <td>1313452800</td>\n",
       "    </tr>\n",
       "    <tr>\n",
       "      <th>401099</th>\n",
       "      <td>6333263</td>\n",
       "      <td>9.305651</td>\n",
       "      <td>1833174</td>\n",
       "      <td>21437</td>\n",
       "      <td>149</td>\n",
       "      <td>1.0</td>\n",
       "      <td>2004</td>\n",
       "      <td>NaN</td>\n",
       "      <td>-1</td>\n",
       "      <td>35N</td>\n",
       "      <td>...</td>\n",
       "      <td>14</td>\n",
       "      <td>2</td>\n",
       "      <td>348</td>\n",
       "      <td>False</td>\n",
       "      <td>False</td>\n",
       "      <td>False</td>\n",
       "      <td>False</td>\n",
       "      <td>False</td>\n",
       "      <td>False</td>\n",
       "      <td>1323820800</td>\n",
       "    </tr>\n",
       "    <tr>\n",
       "      <th>401100</th>\n",
       "      <td>6333264</td>\n",
       "      <td>9.259131</td>\n",
       "      <td>1791370</td>\n",
       "      <td>21437</td>\n",
       "      <td>149</td>\n",
       "      <td>2.0</td>\n",
       "      <td>2004</td>\n",
       "      <td>NaN</td>\n",
       "      <td>-1</td>\n",
       "      <td>35N</td>\n",
       "      <td>...</td>\n",
       "      <td>16</td>\n",
       "      <td>1</td>\n",
       "      <td>228</td>\n",
       "      <td>False</td>\n",
       "      <td>False</td>\n",
       "      <td>False</td>\n",
       "      <td>False</td>\n",
       "      <td>False</td>\n",
       "      <td>False</td>\n",
       "      <td>1313452800</td>\n",
       "    </tr>\n",
       "    <tr>\n",
       "      <th>401101</th>\n",
       "      <td>6333270</td>\n",
       "      <td>9.210340</td>\n",
       "      <td>1799208</td>\n",
       "      <td>21437</td>\n",
       "      <td>149</td>\n",
       "      <td>1.0</td>\n",
       "      <td>2004</td>\n",
       "      <td>NaN</td>\n",
       "      <td>-1</td>\n",
       "      <td>35N</td>\n",
       "      <td>...</td>\n",
       "      <td>14</td>\n",
       "      <td>2</td>\n",
       "      <td>348</td>\n",
       "      <td>False</td>\n",
       "      <td>False</td>\n",
       "      <td>False</td>\n",
       "      <td>False</td>\n",
       "      <td>False</td>\n",
       "      <td>False</td>\n",
       "      <td>1323820800</td>\n",
       "    </tr>\n",
       "    <tr>\n",
       "      <th>401102</th>\n",
       "      <td>6333272</td>\n",
       "      <td>9.259131</td>\n",
       "      <td>1927142</td>\n",
       "      <td>21437</td>\n",
       "      <td>149</td>\n",
       "      <td>2.0</td>\n",
       "      <td>2005</td>\n",
       "      <td>NaN</td>\n",
       "      <td>-1</td>\n",
       "      <td>35N</td>\n",
       "      <td>...</td>\n",
       "      <td>16</td>\n",
       "      <td>1</td>\n",
       "      <td>228</td>\n",
       "      <td>False</td>\n",
       "      <td>False</td>\n",
       "      <td>False</td>\n",
       "      <td>False</td>\n",
       "      <td>False</td>\n",
       "      <td>False</td>\n",
       "      <td>1313452800</td>\n",
       "    </tr>\n",
       "    <tr>\n",
       "      <th>401103</th>\n",
       "      <td>6333273</td>\n",
       "      <td>9.433484</td>\n",
       "      <td>1789856</td>\n",
       "      <td>21437</td>\n",
       "      <td>149</td>\n",
       "      <td>2.0</td>\n",
       "      <td>2005</td>\n",
       "      <td>NaN</td>\n",
       "      <td>-1</td>\n",
       "      <td>35N</td>\n",
       "      <td>...</td>\n",
       "      <td>15</td>\n",
       "      <td>3</td>\n",
       "      <td>258</td>\n",
       "      <td>False</td>\n",
       "      <td>False</td>\n",
       "      <td>False</td>\n",
       "      <td>False</td>\n",
       "      <td>False</td>\n",
       "      <td>False</td>\n",
       "      <td>1316044800</td>\n",
       "    </tr>\n",
       "    <tr>\n",
       "      <th>401104</th>\n",
       "      <td>6333275</td>\n",
       "      <td>9.259131</td>\n",
       "      <td>1924623</td>\n",
       "      <td>21437</td>\n",
       "      <td>149</td>\n",
       "      <td>2.0</td>\n",
       "      <td>2005</td>\n",
       "      <td>NaN</td>\n",
       "      <td>-1</td>\n",
       "      <td>35N</td>\n",
       "      <td>...</td>\n",
       "      <td>16</td>\n",
       "      <td>1</td>\n",
       "      <td>228</td>\n",
       "      <td>False</td>\n",
       "      <td>False</td>\n",
       "      <td>False</td>\n",
       "      <td>False</td>\n",
       "      <td>False</td>\n",
       "      <td>False</td>\n",
       "      <td>1313452800</td>\n",
       "    </tr>\n",
       "    <tr>\n",
       "      <th>401105</th>\n",
       "      <td>6333276</td>\n",
       "      <td>9.210340</td>\n",
       "      <td>1835350</td>\n",
       "      <td>21437</td>\n",
       "      <td>149</td>\n",
       "      <td>2.0</td>\n",
       "      <td>2005</td>\n",
       "      <td>NaN</td>\n",
       "      <td>-1</td>\n",
       "      <td>35N</td>\n",
       "      <td>...</td>\n",
       "      <td>25</td>\n",
       "      <td>1</td>\n",
       "      <td>298</td>\n",
       "      <td>False</td>\n",
       "      <td>False</td>\n",
       "      <td>False</td>\n",
       "      <td>False</td>\n",
       "      <td>False</td>\n",
       "      <td>False</td>\n",
       "      <td>1319500800</td>\n",
       "    </tr>\n",
       "    <tr>\n",
       "      <th>401106</th>\n",
       "      <td>6333278</td>\n",
       "      <td>9.259131</td>\n",
       "      <td>1944702</td>\n",
       "      <td>21437</td>\n",
       "      <td>149</td>\n",
       "      <td>2.0</td>\n",
       "      <td>2005</td>\n",
       "      <td>NaN</td>\n",
       "      <td>-1</td>\n",
       "      <td>35N</td>\n",
       "      <td>...</td>\n",
       "      <td>16</td>\n",
       "      <td>1</td>\n",
       "      <td>228</td>\n",
       "      <td>False</td>\n",
       "      <td>False</td>\n",
       "      <td>False</td>\n",
       "      <td>False</td>\n",
       "      <td>False</td>\n",
       "      <td>False</td>\n",
       "      <td>1313452800</td>\n",
       "    </tr>\n",
       "    <tr>\n",
       "      <th>401107</th>\n",
       "      <td>6333279</td>\n",
       "      <td>9.433484</td>\n",
       "      <td>1866563</td>\n",
       "      <td>21437</td>\n",
       "      <td>149</td>\n",
       "      <td>2.0</td>\n",
       "      <td>2005</td>\n",
       "      <td>NaN</td>\n",
       "      <td>-1</td>\n",
       "      <td>35N</td>\n",
       "      <td>...</td>\n",
       "      <td>15</td>\n",
       "      <td>3</td>\n",
       "      <td>258</td>\n",
       "      <td>False</td>\n",
       "      <td>False</td>\n",
       "      <td>False</td>\n",
       "      <td>False</td>\n",
       "      <td>False</td>\n",
       "      <td>False</td>\n",
       "      <td>1316044800</td>\n",
       "    </tr>\n",
       "    <tr>\n",
       "      <th>401108</th>\n",
       "      <td>6333280</td>\n",
       "      <td>9.259131</td>\n",
       "      <td>1851633</td>\n",
       "      <td>21437</td>\n",
       "      <td>149</td>\n",
       "      <td>2.0</td>\n",
       "      <td>2005</td>\n",
       "      <td>NaN</td>\n",
       "      <td>-1</td>\n",
       "      <td>35N</td>\n",
       "      <td>...</td>\n",
       "      <td>16</td>\n",
       "      <td>1</td>\n",
       "      <td>228</td>\n",
       "      <td>False</td>\n",
       "      <td>False</td>\n",
       "      <td>False</td>\n",
       "      <td>False</td>\n",
       "      <td>False</td>\n",
       "      <td>False</td>\n",
       "      <td>1313452800</td>\n",
       "    </tr>\n",
       "    <tr>\n",
       "      <th>401109</th>\n",
       "      <td>6333281</td>\n",
       "      <td>9.259131</td>\n",
       "      <td>1798958</td>\n",
       "      <td>21437</td>\n",
       "      <td>149</td>\n",
       "      <td>2.0</td>\n",
       "      <td>2005</td>\n",
       "      <td>NaN</td>\n",
       "      <td>-1</td>\n",
       "      <td>35N</td>\n",
       "      <td>...</td>\n",
       "      <td>16</td>\n",
       "      <td>1</td>\n",
       "      <td>228</td>\n",
       "      <td>False</td>\n",
       "      <td>False</td>\n",
       "      <td>False</td>\n",
       "      <td>False</td>\n",
       "      <td>False</td>\n",
       "      <td>False</td>\n",
       "      <td>1313452800</td>\n",
       "    </tr>\n",
       "    <tr>\n",
       "      <th>401110</th>\n",
       "      <td>6333282</td>\n",
       "      <td>9.259131</td>\n",
       "      <td>1878866</td>\n",
       "      <td>21437</td>\n",
       "      <td>149</td>\n",
       "      <td>2.0</td>\n",
       "      <td>2005</td>\n",
       "      <td>NaN</td>\n",
       "      <td>-1</td>\n",
       "      <td>35N</td>\n",
       "      <td>...</td>\n",
       "      <td>15</td>\n",
       "      <td>3</td>\n",
       "      <td>258</td>\n",
       "      <td>False</td>\n",
       "      <td>False</td>\n",
       "      <td>False</td>\n",
       "      <td>False</td>\n",
       "      <td>False</td>\n",
       "      <td>False</td>\n",
       "      <td>1316044800</td>\n",
       "    </tr>\n",
       "    <tr>\n",
       "      <th>401111</th>\n",
       "      <td>6333283</td>\n",
       "      <td>9.210340</td>\n",
       "      <td>1874235</td>\n",
       "      <td>21437</td>\n",
       "      <td>149</td>\n",
       "      <td>2.0</td>\n",
       "      <td>2005</td>\n",
       "      <td>NaN</td>\n",
       "      <td>-1</td>\n",
       "      <td>35N</td>\n",
       "      <td>...</td>\n",
       "      <td>25</td>\n",
       "      <td>1</td>\n",
       "      <td>298</td>\n",
       "      <td>False</td>\n",
       "      <td>False</td>\n",
       "      <td>False</td>\n",
       "      <td>False</td>\n",
       "      <td>False</td>\n",
       "      <td>False</td>\n",
       "      <td>1319500800</td>\n",
       "    </tr>\n",
       "    <tr>\n",
       "      <th>401112</th>\n",
       "      <td>6333284</td>\n",
       "      <td>9.259131</td>\n",
       "      <td>1887654</td>\n",
       "      <td>21437</td>\n",
       "      <td>149</td>\n",
       "      <td>2.0</td>\n",
       "      <td>2005</td>\n",
       "      <td>NaN</td>\n",
       "      <td>-1</td>\n",
       "      <td>35N</td>\n",
       "      <td>...</td>\n",
       "      <td>25</td>\n",
       "      <td>1</td>\n",
       "      <td>298</td>\n",
       "      <td>False</td>\n",
       "      <td>False</td>\n",
       "      <td>False</td>\n",
       "      <td>False</td>\n",
       "      <td>False</td>\n",
       "      <td>False</td>\n",
       "      <td>1319500800</td>\n",
       "    </tr>\n",
       "    <tr>\n",
       "      <th>401113</th>\n",
       "      <td>6333285</td>\n",
       "      <td>9.259131</td>\n",
       "      <td>1817165</td>\n",
       "      <td>21437</td>\n",
       "      <td>149</td>\n",
       "      <td>2.0</td>\n",
       "      <td>2005</td>\n",
       "      <td>NaN</td>\n",
       "      <td>-1</td>\n",
       "      <td>35N</td>\n",
       "      <td>...</td>\n",
       "      <td>25</td>\n",
       "      <td>1</td>\n",
       "      <td>298</td>\n",
       "      <td>False</td>\n",
       "      <td>False</td>\n",
       "      <td>False</td>\n",
       "      <td>False</td>\n",
       "      <td>False</td>\n",
       "      <td>False</td>\n",
       "      <td>1319500800</td>\n",
       "    </tr>\n",
       "    <tr>\n",
       "      <th>401114</th>\n",
       "      <td>6333287</td>\n",
       "      <td>9.433484</td>\n",
       "      <td>1918242</td>\n",
       "      <td>21437</td>\n",
       "      <td>149</td>\n",
       "      <td>2.0</td>\n",
       "      <td>2005</td>\n",
       "      <td>NaN</td>\n",
       "      <td>-1</td>\n",
       "      <td>35N</td>\n",
       "      <td>...</td>\n",
       "      <td>15</td>\n",
       "      <td>1</td>\n",
       "      <td>319</td>\n",
       "      <td>False</td>\n",
       "      <td>False</td>\n",
       "      <td>False</td>\n",
       "      <td>False</td>\n",
       "      <td>False</td>\n",
       "      <td>False</td>\n",
       "      <td>1321315200</td>\n",
       "    </tr>\n",
       "    <tr>\n",
       "      <th>401115</th>\n",
       "      <td>6333290</td>\n",
       "      <td>9.210340</td>\n",
       "      <td>1843374</td>\n",
       "      <td>21437</td>\n",
       "      <td>149</td>\n",
       "      <td>2.0</td>\n",
       "      <td>2005</td>\n",
       "      <td>NaN</td>\n",
       "      <td>-1</td>\n",
       "      <td>35N</td>\n",
       "      <td>...</td>\n",
       "      <td>25</td>\n",
       "      <td>1</td>\n",
       "      <td>298</td>\n",
       "      <td>False</td>\n",
       "      <td>False</td>\n",
       "      <td>False</td>\n",
       "      <td>False</td>\n",
       "      <td>False</td>\n",
       "      <td>False</td>\n",
       "      <td>1319500800</td>\n",
       "    </tr>\n",
       "    <tr>\n",
       "      <th>401116</th>\n",
       "      <td>6333302</td>\n",
       "      <td>9.047821</td>\n",
       "      <td>1825337</td>\n",
       "      <td>21437</td>\n",
       "      <td>149</td>\n",
       "      <td>2.0</td>\n",
       "      <td>2005</td>\n",
       "      <td>NaN</td>\n",
       "      <td>-1</td>\n",
       "      <td>35N</td>\n",
       "      <td>...</td>\n",
       "      <td>25</td>\n",
       "      <td>1</td>\n",
       "      <td>298</td>\n",
       "      <td>False</td>\n",
       "      <td>False</td>\n",
       "      <td>False</td>\n",
       "      <td>False</td>\n",
       "      <td>False</td>\n",
       "      <td>False</td>\n",
       "      <td>1319500800</td>\n",
       "    </tr>\n",
       "    <tr>\n",
       "      <th>401117</th>\n",
       "      <td>6333307</td>\n",
       "      <td>9.210340</td>\n",
       "      <td>1821747</td>\n",
       "      <td>21437</td>\n",
       "      <td>149</td>\n",
       "      <td>2.0</td>\n",
       "      <td>2005</td>\n",
       "      <td>NaN</td>\n",
       "      <td>-1</td>\n",
       "      <td>35N</td>\n",
       "      <td>...</td>\n",
       "      <td>25</td>\n",
       "      <td>1</td>\n",
       "      <td>298</td>\n",
       "      <td>False</td>\n",
       "      <td>False</td>\n",
       "      <td>False</td>\n",
       "      <td>False</td>\n",
       "      <td>False</td>\n",
       "      <td>False</td>\n",
       "      <td>1319500800</td>\n",
       "    </tr>\n",
       "    <tr>\n",
       "      <th>401118</th>\n",
       "      <td>6333311</td>\n",
       "      <td>9.159047</td>\n",
       "      <td>1828862</td>\n",
       "      <td>21437</td>\n",
       "      <td>149</td>\n",
       "      <td>2.0</td>\n",
       "      <td>2006</td>\n",
       "      <td>NaN</td>\n",
       "      <td>-1</td>\n",
       "      <td>35N</td>\n",
       "      <td>...</td>\n",
       "      <td>25</td>\n",
       "      <td>1</td>\n",
       "      <td>298</td>\n",
       "      <td>False</td>\n",
       "      <td>False</td>\n",
       "      <td>False</td>\n",
       "      <td>False</td>\n",
       "      <td>False</td>\n",
       "      <td>False</td>\n",
       "      <td>1319500800</td>\n",
       "    </tr>\n",
       "    <tr>\n",
       "      <th>401119</th>\n",
       "      <td>6333335</td>\n",
       "      <td>9.047821</td>\n",
       "      <td>1798293</td>\n",
       "      <td>21435</td>\n",
       "      <td>149</td>\n",
       "      <td>2.0</td>\n",
       "      <td>2005</td>\n",
       "      <td>NaN</td>\n",
       "      <td>-1</td>\n",
       "      <td>30NX</td>\n",
       "      <td>...</td>\n",
       "      <td>25</td>\n",
       "      <td>1</td>\n",
       "      <td>298</td>\n",
       "      <td>False</td>\n",
       "      <td>False</td>\n",
       "      <td>False</td>\n",
       "      <td>False</td>\n",
       "      <td>False</td>\n",
       "      <td>False</td>\n",
       "      <td>1319500800</td>\n",
       "    </tr>\n",
       "    <tr>\n",
       "      <th>401120</th>\n",
       "      <td>6333336</td>\n",
       "      <td>9.259131</td>\n",
       "      <td>1840702</td>\n",
       "      <td>21439</td>\n",
       "      <td>149</td>\n",
       "      <td>1.0</td>\n",
       "      <td>2005</td>\n",
       "      <td>NaN</td>\n",
       "      <td>-1</td>\n",
       "      <td>35NX2</td>\n",
       "      <td>...</td>\n",
       "      <td>2</td>\n",
       "      <td>2</td>\n",
       "      <td>306</td>\n",
       "      <td>False</td>\n",
       "      <td>False</td>\n",
       "      <td>False</td>\n",
       "      <td>False</td>\n",
       "      <td>False</td>\n",
       "      <td>False</td>\n",
       "      <td>1320192000</td>\n",
       "    </tr>\n",
       "    <tr>\n",
       "      <th>401121</th>\n",
       "      <td>6333337</td>\n",
       "      <td>9.305651</td>\n",
       "      <td>1830472</td>\n",
       "      <td>21439</td>\n",
       "      <td>149</td>\n",
       "      <td>1.0</td>\n",
       "      <td>2005</td>\n",
       "      <td>NaN</td>\n",
       "      <td>-1</td>\n",
       "      <td>35NX2</td>\n",
       "      <td>...</td>\n",
       "      <td>2</td>\n",
       "      <td>2</td>\n",
       "      <td>306</td>\n",
       "      <td>False</td>\n",
       "      <td>False</td>\n",
       "      <td>False</td>\n",
       "      <td>False</td>\n",
       "      <td>False</td>\n",
       "      <td>False</td>\n",
       "      <td>1320192000</td>\n",
       "    </tr>\n",
       "    <tr>\n",
       "      <th>401122</th>\n",
       "      <td>6333338</td>\n",
       "      <td>9.350102</td>\n",
       "      <td>1887659</td>\n",
       "      <td>21439</td>\n",
       "      <td>149</td>\n",
       "      <td>1.0</td>\n",
       "      <td>2005</td>\n",
       "      <td>NaN</td>\n",
       "      <td>-1</td>\n",
       "      <td>35NX2</td>\n",
       "      <td>...</td>\n",
       "      <td>2</td>\n",
       "      <td>2</td>\n",
       "      <td>306</td>\n",
       "      <td>False</td>\n",
       "      <td>False</td>\n",
       "      <td>False</td>\n",
       "      <td>False</td>\n",
       "      <td>False</td>\n",
       "      <td>False</td>\n",
       "      <td>1320192000</td>\n",
       "    </tr>\n",
       "    <tr>\n",
       "      <th>401123</th>\n",
       "      <td>6333341</td>\n",
       "      <td>9.104980</td>\n",
       "      <td>1903570</td>\n",
       "      <td>21435</td>\n",
       "      <td>149</td>\n",
       "      <td>2.0</td>\n",
       "      <td>2005</td>\n",
       "      <td>NaN</td>\n",
       "      <td>-1</td>\n",
       "      <td>30NX</td>\n",
       "      <td>...</td>\n",
       "      <td>25</td>\n",
       "      <td>1</td>\n",
       "      <td>298</td>\n",
       "      <td>False</td>\n",
       "      <td>False</td>\n",
       "      <td>False</td>\n",
       "      <td>False</td>\n",
       "      <td>False</td>\n",
       "      <td>False</td>\n",
       "      <td>1319500800</td>\n",
       "    </tr>\n",
       "    <tr>\n",
       "      <th>401124</th>\n",
       "      <td>6333342</td>\n",
       "      <td>8.955448</td>\n",
       "      <td>1926965</td>\n",
       "      <td>21435</td>\n",
       "      <td>149</td>\n",
       "      <td>2.0</td>\n",
       "      <td>2005</td>\n",
       "      <td>NaN</td>\n",
       "      <td>-1</td>\n",
       "      <td>30NX</td>\n",
       "      <td>...</td>\n",
       "      <td>25</td>\n",
       "      <td>1</td>\n",
       "      <td>298</td>\n",
       "      <td>False</td>\n",
       "      <td>False</td>\n",
       "      <td>False</td>\n",
       "      <td>False</td>\n",
       "      <td>False</td>\n",
       "      <td>False</td>\n",
       "      <td>1319500800</td>\n",
       "    </tr>\n",
       "  </tbody>\n",
       "</table>\n",
       "<p>401125 rows × 65 columns</p>\n",
       "</div>"
      ],
      "text/plain": [
       "        SalesID  SalePrice  MachineID  ModelID  datasource  auctioneerID  \\\n",
       "0       1139246  11.097410     999089     3157         121           3.0   \n",
       "1       1139248  10.950807     117657       77         121           3.0   \n",
       "2       1139249   9.210340     434808     7009         121           3.0   \n",
       "3       1139251  10.558414    1026470      332         121           3.0   \n",
       "4       1139253   9.305651    1057373    17311         121           3.0   \n",
       "5       1139255  10.184900    1001274     4605         121           3.0   \n",
       "6       1139256   9.952278     772701     1937         121           3.0   \n",
       "7       1139261  10.203592     902002     3539         121           3.0   \n",
       "8       1139272   9.975808    1036251    36003         121           3.0   \n",
       "9       1139275  11.082143    1016474     3883         121           3.0   \n",
       "10      1139278  10.085809    1024998     4605         121           3.0   \n",
       "11      1139282  10.021271     319906     5255         121           3.0   \n",
       "12      1139283  10.491274    1052214     2232         121           3.0   \n",
       "13      1139284  10.325482    1068082     3542         121           3.0   \n",
       "14      1139290  10.239960    1058450     5162         121           3.0   \n",
       "15      1139291   9.852194    1004810     4604         121           3.0   \n",
       "16      1139292   9.510445    1026973     9510         121           3.0   \n",
       "17      1139299   9.159047    1002713    21442         121           3.0   \n",
       "18      1139301   9.433484     125790     7040         121           3.0   \n",
       "19      1139304   9.350102    1011914     3177         121           3.0   \n",
       "20      1139311  10.621327    1014135     8867         121           3.0   \n",
       "21      1139333  10.448715     999192     3350         121           3.0   \n",
       "22      1139344  10.165852    1044500     7040         121           3.0   \n",
       "23      1139346  11.198215     821452       85         121           3.0   \n",
       "24      1139348  10.404263     294562     3542         121           3.0   \n",
       "25      1139351   9.433484     833838     7009         121           3.0   \n",
       "26      1139354   9.648595     565440     7040         121           3.0   \n",
       "27      1139356  10.878047    1004127    25458         121           3.0   \n",
       "28      1139357  10.736397      44800    19167         121           3.0   \n",
       "29      1139358  11.396392    1018076     1333         121           3.0   \n",
       "...         ...        ...        ...      ...         ...           ...   \n",
       "401095  6333259   9.259131    1872639    21437         149           1.0   \n",
       "401096  6333260   9.210340    1816341    21437         149           2.0   \n",
       "401097  6333261   9.047821    1843949    21437         149           1.0   \n",
       "401098  6333262   9.259131    1791341    21437         149           2.0   \n",
       "401099  6333263   9.305651    1833174    21437         149           1.0   \n",
       "401100  6333264   9.259131    1791370    21437         149           2.0   \n",
       "401101  6333270   9.210340    1799208    21437         149           1.0   \n",
       "401102  6333272   9.259131    1927142    21437         149           2.0   \n",
       "401103  6333273   9.433484    1789856    21437         149           2.0   \n",
       "401104  6333275   9.259131    1924623    21437         149           2.0   \n",
       "401105  6333276   9.210340    1835350    21437         149           2.0   \n",
       "401106  6333278   9.259131    1944702    21437         149           2.0   \n",
       "401107  6333279   9.433484    1866563    21437         149           2.0   \n",
       "401108  6333280   9.259131    1851633    21437         149           2.0   \n",
       "401109  6333281   9.259131    1798958    21437         149           2.0   \n",
       "401110  6333282   9.259131    1878866    21437         149           2.0   \n",
       "401111  6333283   9.210340    1874235    21437         149           2.0   \n",
       "401112  6333284   9.259131    1887654    21437         149           2.0   \n",
       "401113  6333285   9.259131    1817165    21437         149           2.0   \n",
       "401114  6333287   9.433484    1918242    21437         149           2.0   \n",
       "401115  6333290   9.210340    1843374    21437         149           2.0   \n",
       "401116  6333302   9.047821    1825337    21437         149           2.0   \n",
       "401117  6333307   9.210340    1821747    21437         149           2.0   \n",
       "401118  6333311   9.159047    1828862    21437         149           2.0   \n",
       "401119  6333335   9.047821    1798293    21435         149           2.0   \n",
       "401120  6333336   9.259131    1840702    21439         149           1.0   \n",
       "401121  6333337   9.305651    1830472    21439         149           1.0   \n",
       "401122  6333338   9.350102    1887659    21439         149           1.0   \n",
       "401123  6333341   9.104980    1903570    21435         149           2.0   \n",
       "401124  6333342   8.955448    1926965    21435         149           2.0   \n",
       "\n",
       "        YearMade  MachineHoursCurrentMeter  UsageBand fiModelDesc     ...      \\\n",
       "0           2004                      68.0          2        521D     ...       \n",
       "1           1996                    4640.0          2      950FII     ...       \n",
       "2           2001                    2838.0          0         226     ...       \n",
       "3           2001                    3486.0          0    PC120-6E     ...       \n",
       "4           2007                     722.0          1        S175     ...       \n",
       "5           2004                     508.0          2        310G     ...       \n",
       "6           1993                   11540.0          0      790ELC     ...       \n",
       "7           2001                    4883.0          0        416D     ...       \n",
       "8           2008                     302.0          2      430HAG     ...       \n",
       "9           1000                   20700.0          1        988B     ...       \n",
       "10          2004                    1414.0          1        310G     ...       \n",
       "11          1998                    2764.0          2        D31E     ...       \n",
       "12          1998                       0.0         -1    PC200LC6     ...       \n",
       "13          2001                    1921.0          1        420D     ...       \n",
       "14          2004                     320.0          2        214E     ...       \n",
       "15          1999                    2450.0          1        310E     ...       \n",
       "16          1999                    1972.0          2         334     ...       \n",
       "17          2003                       0.0         -1        45NX     ...       \n",
       "18          2001                     994.0          2       302.5     ...       \n",
       "19          1991                    8005.0          1  580SUPER K     ...       \n",
       "20          2000                    3259.0          1       JS260     ...       \n",
       "21          1000                   16328.0          1        120G     ...       \n",
       "22          2005                     109.0          2       302.5     ...       \n",
       "23          1996                   17033.0          0      966FII     ...       \n",
       "24          2001                    1877.0          1        420D     ...       \n",
       "25          2003                    1028.0          1         226     ...       \n",
       "26          2003                     356.0          2       302.5     ...       \n",
       "27          2000                       0.0         -1    EX550STD     ...       \n",
       "28          2004                     904.0          2        685B     ...       \n",
       "29          1998                   10466.0          1       345BL     ...       \n",
       "...          ...                       ...        ...         ...     ...       \n",
       "401095      2003                       NaN         -1         35N     ...       \n",
       "401096      2004                       NaN         -1         35N     ...       \n",
       "401097      2005                       NaN         -1         35N     ...       \n",
       "401098      2004                       NaN         -1         35N     ...       \n",
       "401099      2004                       NaN         -1         35N     ...       \n",
       "401100      2004                       NaN         -1         35N     ...       \n",
       "401101      2004                       NaN         -1         35N     ...       \n",
       "401102      2005                       NaN         -1         35N     ...       \n",
       "401103      2005                       NaN         -1         35N     ...       \n",
       "401104      2005                       NaN         -1         35N     ...       \n",
       "401105      2005                       NaN         -1         35N     ...       \n",
       "401106      2005                       NaN         -1         35N     ...       \n",
       "401107      2005                       NaN         -1         35N     ...       \n",
       "401108      2005                       NaN         -1         35N     ...       \n",
       "401109      2005                       NaN         -1         35N     ...       \n",
       "401110      2005                       NaN         -1         35N     ...       \n",
       "401111      2005                       NaN         -1         35N     ...       \n",
       "401112      2005                       NaN         -1         35N     ...       \n",
       "401113      2005                       NaN         -1         35N     ...       \n",
       "401114      2005                       NaN         -1         35N     ...       \n",
       "401115      2005                       NaN         -1         35N     ...       \n",
       "401116      2005                       NaN         -1         35N     ...       \n",
       "401117      2005                       NaN         -1         35N     ...       \n",
       "401118      2006                       NaN         -1         35N     ...       \n",
       "401119      2005                       NaN         -1        30NX     ...       \n",
       "401120      2005                       NaN         -1       35NX2     ...       \n",
       "401121      2005                       NaN         -1       35NX2     ...       \n",
       "401122      2005                       NaN         -1       35NX2     ...       \n",
       "401123      2005                       NaN         -1        30NX     ...       \n",
       "401124      2005                       NaN         -1        30NX     ...       \n",
       "\n",
       "       saleDay saleDayofweek saleDayofyear saleIs_month_end  \\\n",
       "0           16             3           320            False   \n",
       "1           26             4            86            False   \n",
       "2           26             3            57            False   \n",
       "3           19             3           139            False   \n",
       "4           23             3           204            False   \n",
       "5           18             3           353            False   \n",
       "6           26             3           239            False   \n",
       "7           17             3           321            False   \n",
       "8           27             3           239            False   \n",
       "9            9             3           221            False   \n",
       "10          21             3           234            False   \n",
       "11          24             3           236            False   \n",
       "12          20             3           293            False   \n",
       "13          26             3            26            False   \n",
       "14           3             1             3            False   \n",
       "15          16             3           320            False   \n",
       "16          14             3           165            False   \n",
       "17          28             3            28            False   \n",
       "18           9             3            68            False   \n",
       "19          17             3           321            False   \n",
       "20          18             3           138            False   \n",
       "21          19             3           292            False   \n",
       "22          25             3           298            False   \n",
       "23          19             3           292            False   \n",
       "24          20             3           141            False   \n",
       "25           9             3            68            False   \n",
       "26           9             3            68            False   \n",
       "27          22             3            53            False   \n",
       "28           9             3           221            False   \n",
       "29           1             3           152            False   \n",
       "...        ...           ...           ...              ...   \n",
       "401095      14             2           348            False   \n",
       "401096      15             3           258            False   \n",
       "401097      28             4           301            False   \n",
       "401098      16             1           228            False   \n",
       "401099      14             2           348            False   \n",
       "401100      16             1           228            False   \n",
       "401101      14             2           348            False   \n",
       "401102      16             1           228            False   \n",
       "401103      15             3           258            False   \n",
       "401104      16             1           228            False   \n",
       "401105      25             1           298            False   \n",
       "401106      16             1           228            False   \n",
       "401107      15             3           258            False   \n",
       "401108      16             1           228            False   \n",
       "401109      16             1           228            False   \n",
       "401110      15             3           258            False   \n",
       "401111      25             1           298            False   \n",
       "401112      25             1           298            False   \n",
       "401113      25             1           298            False   \n",
       "401114      15             1           319            False   \n",
       "401115      25             1           298            False   \n",
       "401116      25             1           298            False   \n",
       "401117      25             1           298            False   \n",
       "401118      25             1           298            False   \n",
       "401119      25             1           298            False   \n",
       "401120       2             2           306            False   \n",
       "401121       2             2           306            False   \n",
       "401122       2             2           306            False   \n",
       "401123      25             1           298            False   \n",
       "401124      25             1           298            False   \n",
       "\n",
       "       saleIs_month_start saleIs_quarter_end saleIs_quarter_start  \\\n",
       "0                   False              False                False   \n",
       "1                   False              False                False   \n",
       "2                   False              False                False   \n",
       "3                   False              False                False   \n",
       "4                   False              False                False   \n",
       "5                   False              False                False   \n",
       "6                   False              False                False   \n",
       "7                   False              False                False   \n",
       "8                   False              False                False   \n",
       "9                   False              False                False   \n",
       "10                  False              False                False   \n",
       "11                  False              False                False   \n",
       "12                  False              False                False   \n",
       "13                  False              False                False   \n",
       "14                  False              False                False   \n",
       "15                  False              False                False   \n",
       "16                  False              False                False   \n",
       "17                  False              False                False   \n",
       "18                  False              False                False   \n",
       "19                  False              False                False   \n",
       "20                  False              False                False   \n",
       "21                  False              False                False   \n",
       "22                  False              False                False   \n",
       "23                  False              False                False   \n",
       "24                  False              False                False   \n",
       "25                  False              False                False   \n",
       "26                  False              False                False   \n",
       "27                  False              False                False   \n",
       "28                  False              False                False   \n",
       "29                   True              False                False   \n",
       "...                   ...                ...                  ...   \n",
       "401095              False              False                False   \n",
       "401096              False              False                False   \n",
       "401097              False              False                False   \n",
       "401098              False              False                False   \n",
       "401099              False              False                False   \n",
       "401100              False              False                False   \n",
       "401101              False              False                False   \n",
       "401102              False              False                False   \n",
       "401103              False              False                False   \n",
       "401104              False              False                False   \n",
       "401105              False              False                False   \n",
       "401106              False              False                False   \n",
       "401107              False              False                False   \n",
       "401108              False              False                False   \n",
       "401109              False              False                False   \n",
       "401110              False              False                False   \n",
       "401111              False              False                False   \n",
       "401112              False              False                False   \n",
       "401113              False              False                False   \n",
       "401114              False              False                False   \n",
       "401115              False              False                False   \n",
       "401116              False              False                False   \n",
       "401117              False              False                False   \n",
       "401118              False              False                False   \n",
       "401119              False              False                False   \n",
       "401120              False              False                False   \n",
       "401121              False              False                False   \n",
       "401122              False              False                False   \n",
       "401123              False              False                False   \n",
       "401124              False              False                False   \n",
       "\n",
       "       saleIs_year_end saleIs_year_start saleElapsed  \n",
       "0                False             False  1163635200  \n",
       "1                False             False  1080259200  \n",
       "2                False             False  1077753600  \n",
       "3                False             False  1305763200  \n",
       "4                False             False  1248307200  \n",
       "5                False             False  1229558400  \n",
       "6                False             False  1093478400  \n",
       "7                False             False  1132185600  \n",
       "8                False             False  1251331200  \n",
       "9                False             False  1186617600  \n",
       "10               False             False  1219276800  \n",
       "11               False             False  1156377600  \n",
       "12               False             False  1129766400  \n",
       "13               False             False  1138233600  \n",
       "14               False             False  1136246400  \n",
       "15               False             False  1163635200  \n",
       "16               False             False  1181779200  \n",
       "17               False             False  1264636800  \n",
       "18               False             False  1141862400  \n",
       "19               False             False  1132185600  \n",
       "20               False             False  1147910400  \n",
       "21               False             False  1161216000  \n",
       "22               False             False  1193270400  \n",
       "23               False             False  1161216000  \n",
       "24               False             False  1085011200  \n",
       "25               False             False  1141862400  \n",
       "26               False             False  1141862400  \n",
       "27               False             False  1172102400  \n",
       "28               False             False  1186617600  \n",
       "29               False             False  1149120000  \n",
       "...                ...               ...         ...  \n",
       "401095           False             False  1323820800  \n",
       "401096           False             False  1316044800  \n",
       "401097           False             False  1319760000  \n",
       "401098           False             False  1313452800  \n",
       "401099           False             False  1323820800  \n",
       "401100           False             False  1313452800  \n",
       "401101           False             False  1323820800  \n",
       "401102           False             False  1313452800  \n",
       "401103           False             False  1316044800  \n",
       "401104           False             False  1313452800  \n",
       "401105           False             False  1319500800  \n",
       "401106           False             False  1313452800  \n",
       "401107           False             False  1316044800  \n",
       "401108           False             False  1313452800  \n",
       "401109           False             False  1313452800  \n",
       "401110           False             False  1316044800  \n",
       "401111           False             False  1319500800  \n",
       "401112           False             False  1319500800  \n",
       "401113           False             False  1319500800  \n",
       "401114           False             False  1321315200  \n",
       "401115           False             False  1319500800  \n",
       "401116           False             False  1319500800  \n",
       "401117           False             False  1319500800  \n",
       "401118           False             False  1319500800  \n",
       "401119           False             False  1319500800  \n",
       "401120           False             False  1320192000  \n",
       "401121           False             False  1320192000  \n",
       "401122           False             False  1320192000  \n",
       "401123           False             False  1319500800  \n",
       "401124           False             False  1319500800  \n",
       "\n",
       "[401125 rows x 65 columns]"
      ]
     },
     "execution_count": 9,
     "metadata": {},
     "output_type": "execute_result"
    }
   ],
   "source": [
    "df_raw"
   ]
  },
  {
   "cell_type": "markdown",
   "metadata": {},
   "source": [
    "# Confidence based on tree variance"
   ]
  },
  {
   "cell_type": "markdown",
   "metadata": {},
   "source": [
    "For model interpretation, there's no need to use the full dataset on each tree - using a subset will be both faster, and also provide better interpretability (since an overfit model will not provide much variance across trees)."
   ]
  },
  {
   "cell_type": "code",
   "execution_count": 10,
   "metadata": {},
   "outputs": [],
   "source": [
    "set_rf_samples(50000)"
   ]
  },
  {
   "cell_type": "code",
   "execution_count": 11,
   "metadata": {},
   "outputs": [
    {
     "name": "stdout",
     "output_type": "stream",
     "text": [
      "[0.20583029529009886, 0.2491043950533284, 0.9114571656109831, 0.8891818861548522, 0.8943882740915113]\n"
     ]
    }
   ],
   "source": [
    "m = RandomForestRegressor(n_estimators=40, min_samples_leaf=3, max_features=0.5, n_jobs=-1, oob_score=True)\n",
    "m.fit(X_train, y_train)\n",
    "print_score(m)"
   ]
  },
  {
   "cell_type": "code",
   "execution_count": null,
   "metadata": {
    "scrolled": true
   },
   "outputs": [],
   "source": []
  },
  {
   "cell_type": "markdown",
   "metadata": {},
   "source": [
    "We saw how the model averages predictions across the trees to get an estimate - but how can we know the confidence of the estimate? One simple way is to use the standard deviation of predictions, instead of just the mean. This tells us the *relative* confidence of predictions - that is, for rows where the trees give very different results, you would want to be more cautious of using those results, compared to cases where they are more consistent. Using the same example as in the last lesson when we looked at bagging:"
   ]
  },
  {
   "cell_type": "code",
   "execution_count": 12,
   "metadata": {},
   "outputs": [
    {
     "name": "stdout",
     "output_type": "stream",
     "text": [
      "Wall time: 1.39 s\n"
     ]
    },
    {
     "data": {
      "text/plain": [
       "(9.263675697231204, 0.25026458746261215)"
      ]
     },
     "execution_count": 12,
     "metadata": {},
     "output_type": "execute_result"
    }
   ],
   "source": [
    "%time preds = np.stack([t.predict(X_valid) for t in m.estimators_])\n",
    "np.mean(preds[:,0]), np.std(preds[:,0])"
   ]
  },
  {
   "cell_type": "markdown",
   "metadata": {},
   "source": [
    "When we use python to loop through trees like this, we're calculating each in series, which is slow! We can use parallel processing to speed things up:"
   ]
  },
  {
   "cell_type": "code",
   "execution_count": 13,
   "metadata": {},
   "outputs": [
    {
     "ename": "BrokenProcessPool",
     "evalue": "A process in the process pool was terminated abruptly while the future was running or pending.",
     "output_type": "error",
     "traceback": [
      "\u001b[1;31m---------------------------------------------------------------------------\u001b[0m",
      "\u001b[1;31mBrokenProcessPool\u001b[0m                         Traceback (most recent call last)",
      "\u001b[1;32m<timed exec>\u001b[0m in \u001b[0;36m<module>\u001b[1;34m\u001b[0m\n",
      "\u001b[1;32mD:\\Anaconda3\\lib\\site-packages\\fastai\\structured.py\u001b[0m in \u001b[0;36mparallel_trees\u001b[1;34m(m, fn, n_jobs)\u001b[0m\n\u001b[0;32m     18\u001b[0m \u001b[1;33m\u001b[0m\u001b[0m\n\u001b[0;32m     19\u001b[0m \u001b[1;32mdef\u001b[0m \u001b[0mparallel_trees\u001b[0m\u001b[1;33m(\u001b[0m\u001b[0mm\u001b[0m\u001b[1;33m,\u001b[0m \u001b[0mfn\u001b[0m\u001b[1;33m,\u001b[0m \u001b[0mn_jobs\u001b[0m\u001b[1;33m=\u001b[0m\u001b[1;36m8\u001b[0m\u001b[1;33m)\u001b[0m\u001b[1;33m:\u001b[0m\u001b[1;33m\u001b[0m\u001b[0m\n\u001b[1;32m---> 20\u001b[1;33m         \u001b[1;32mreturn\u001b[0m \u001b[0mlist\u001b[0m\u001b[1;33m(\u001b[0m\u001b[0mProcessPoolExecutor\u001b[0m\u001b[1;33m(\u001b[0m\u001b[0mn_jobs\u001b[0m\u001b[1;33m)\u001b[0m\u001b[1;33m.\u001b[0m\u001b[0mmap\u001b[0m\u001b[1;33m(\u001b[0m\u001b[0mfn\u001b[0m\u001b[1;33m,\u001b[0m \u001b[0mm\u001b[0m\u001b[1;33m.\u001b[0m\u001b[0mestimators_\u001b[0m\u001b[1;33m)\u001b[0m\u001b[1;33m)\u001b[0m\u001b[1;33m\u001b[0m\u001b[0m\n\u001b[0m\u001b[0;32m     21\u001b[0m \u001b[1;33m\u001b[0m\u001b[0m\n\u001b[0;32m     22\u001b[0m \u001b[1;32mdef\u001b[0m \u001b[0mdraw_tree\u001b[0m\u001b[1;33m(\u001b[0m\u001b[0mt\u001b[0m\u001b[1;33m,\u001b[0m \u001b[0mdf\u001b[0m\u001b[1;33m,\u001b[0m \u001b[0msize\u001b[0m\u001b[1;33m=\u001b[0m\u001b[1;36m10\u001b[0m\u001b[1;33m,\u001b[0m \u001b[0mratio\u001b[0m\u001b[1;33m=\u001b[0m\u001b[1;36m0.6\u001b[0m\u001b[1;33m,\u001b[0m \u001b[0mprecision\u001b[0m\u001b[1;33m=\u001b[0m\u001b[1;36m0\u001b[0m\u001b[1;33m)\u001b[0m\u001b[1;33m:\u001b[0m\u001b[1;33m\u001b[0m\u001b[0m\n",
      "\u001b[1;32mD:\\Anaconda3\\lib\\concurrent\\futures\\process.py\u001b[0m in \u001b[0;36m_chain_from_iterable_of_lists\u001b[1;34m(iterable)\u001b[0m\n\u001b[0;32m    364\u001b[0m     \u001b[0mcareful\u001b[0m \u001b[1;32mnot\u001b[0m \u001b[0mto\u001b[0m \u001b[0mkeep\u001b[0m \u001b[0mreferences\u001b[0m \u001b[0mto\u001b[0m \u001b[0myielded\u001b[0m \u001b[0mobjects\u001b[0m\u001b[1;33m.\u001b[0m\u001b[1;33m\u001b[0m\u001b[0m\n\u001b[0;32m    365\u001b[0m     \"\"\"\n\u001b[1;32m--> 366\u001b[1;33m     \u001b[1;32mfor\u001b[0m \u001b[0melement\u001b[0m \u001b[1;32min\u001b[0m \u001b[0miterable\u001b[0m\u001b[1;33m:\u001b[0m\u001b[1;33m\u001b[0m\u001b[0m\n\u001b[0m\u001b[0;32m    367\u001b[0m         \u001b[0melement\u001b[0m\u001b[1;33m.\u001b[0m\u001b[0mreverse\u001b[0m\u001b[1;33m(\u001b[0m\u001b[1;33m)\u001b[0m\u001b[1;33m\u001b[0m\u001b[0m\n\u001b[0;32m    368\u001b[0m         \u001b[1;32mwhile\u001b[0m \u001b[0melement\u001b[0m\u001b[1;33m:\u001b[0m\u001b[1;33m\u001b[0m\u001b[0m\n",
      "\u001b[1;32mD:\\Anaconda3\\lib\\concurrent\\futures\\_base.py\u001b[0m in \u001b[0;36mresult_iterator\u001b[1;34m()\u001b[0m\n\u001b[0;32m    584\u001b[0m                     \u001b[1;31m# Careful not to keep a reference to the popped future\u001b[0m\u001b[1;33m\u001b[0m\u001b[1;33m\u001b[0m\u001b[0m\n\u001b[0;32m    585\u001b[0m                     \u001b[1;32mif\u001b[0m \u001b[0mtimeout\u001b[0m \u001b[1;32mis\u001b[0m \u001b[1;32mNone\u001b[0m\u001b[1;33m:\u001b[0m\u001b[1;33m\u001b[0m\u001b[0m\n\u001b[1;32m--> 586\u001b[1;33m                         \u001b[1;32myield\u001b[0m \u001b[0mfs\u001b[0m\u001b[1;33m.\u001b[0m\u001b[0mpop\u001b[0m\u001b[1;33m(\u001b[0m\u001b[1;33m)\u001b[0m\u001b[1;33m.\u001b[0m\u001b[0mresult\u001b[0m\u001b[1;33m(\u001b[0m\u001b[1;33m)\u001b[0m\u001b[1;33m\u001b[0m\u001b[0m\n\u001b[0m\u001b[0;32m    587\u001b[0m                     \u001b[1;32melse\u001b[0m\u001b[1;33m:\u001b[0m\u001b[1;33m\u001b[0m\u001b[0m\n\u001b[0;32m    588\u001b[0m                         \u001b[1;32myield\u001b[0m \u001b[0mfs\u001b[0m\u001b[1;33m.\u001b[0m\u001b[0mpop\u001b[0m\u001b[1;33m(\u001b[0m\u001b[1;33m)\u001b[0m\u001b[1;33m.\u001b[0m\u001b[0mresult\u001b[0m\u001b[1;33m(\u001b[0m\u001b[0mend_time\u001b[0m \u001b[1;33m-\u001b[0m \u001b[0mtime\u001b[0m\u001b[1;33m.\u001b[0m\u001b[0mtime\u001b[0m\u001b[1;33m(\u001b[0m\u001b[1;33m)\u001b[0m\u001b[1;33m)\u001b[0m\u001b[1;33m\u001b[0m\u001b[0m\n",
      "\u001b[1;32mD:\\Anaconda3\\lib\\concurrent\\futures\\_base.py\u001b[0m in \u001b[0;36mresult\u001b[1;34m(self, timeout)\u001b[0m\n\u001b[0;32m    430\u001b[0m                 \u001b[1;32mraise\u001b[0m \u001b[0mCancelledError\u001b[0m\u001b[1;33m(\u001b[0m\u001b[1;33m)\u001b[0m\u001b[1;33m\u001b[0m\u001b[0m\n\u001b[0;32m    431\u001b[0m             \u001b[1;32melif\u001b[0m \u001b[0mself\u001b[0m\u001b[1;33m.\u001b[0m\u001b[0m_state\u001b[0m \u001b[1;33m==\u001b[0m \u001b[0mFINISHED\u001b[0m\u001b[1;33m:\u001b[0m\u001b[1;33m\u001b[0m\u001b[0m\n\u001b[1;32m--> 432\u001b[1;33m                 \u001b[1;32mreturn\u001b[0m \u001b[0mself\u001b[0m\u001b[1;33m.\u001b[0m\u001b[0m__get_result\u001b[0m\u001b[1;33m(\u001b[0m\u001b[1;33m)\u001b[0m\u001b[1;33m\u001b[0m\u001b[0m\n\u001b[0m\u001b[0;32m    433\u001b[0m             \u001b[1;32melse\u001b[0m\u001b[1;33m:\u001b[0m\u001b[1;33m\u001b[0m\u001b[0m\n\u001b[0;32m    434\u001b[0m                 \u001b[1;32mraise\u001b[0m \u001b[0mTimeoutError\u001b[0m\u001b[1;33m(\u001b[0m\u001b[1;33m)\u001b[0m\u001b[1;33m\u001b[0m\u001b[0m\n",
      "\u001b[1;32mD:\\Anaconda3\\lib\\concurrent\\futures\\_base.py\u001b[0m in \u001b[0;36m__get_result\u001b[1;34m(self)\u001b[0m\n\u001b[0;32m    382\u001b[0m     \u001b[1;32mdef\u001b[0m \u001b[0m__get_result\u001b[0m\u001b[1;33m(\u001b[0m\u001b[0mself\u001b[0m\u001b[1;33m)\u001b[0m\u001b[1;33m:\u001b[0m\u001b[1;33m\u001b[0m\u001b[0m\n\u001b[0;32m    383\u001b[0m         \u001b[1;32mif\u001b[0m \u001b[0mself\u001b[0m\u001b[1;33m.\u001b[0m\u001b[0m_exception\u001b[0m\u001b[1;33m:\u001b[0m\u001b[1;33m\u001b[0m\u001b[0m\n\u001b[1;32m--> 384\u001b[1;33m             \u001b[1;32mraise\u001b[0m \u001b[0mself\u001b[0m\u001b[1;33m.\u001b[0m\u001b[0m_exception\u001b[0m\u001b[1;33m\u001b[0m\u001b[0m\n\u001b[0m\u001b[0;32m    385\u001b[0m         \u001b[1;32melse\u001b[0m\u001b[1;33m:\u001b[0m\u001b[1;33m\u001b[0m\u001b[0m\n\u001b[0;32m    386\u001b[0m             \u001b[1;32mreturn\u001b[0m \u001b[0mself\u001b[0m\u001b[1;33m.\u001b[0m\u001b[0m_result\u001b[0m\u001b[1;33m\u001b[0m\u001b[0m\n",
      "\u001b[1;31mBrokenProcessPool\u001b[0m: A process in the process pool was terminated abruptly while the future was running or pending."
     ]
    },
    {
     "data": {
      "text/plain": [
       "(9.263675697231204, 0.25026458746261215)"
      ]
     },
     "execution_count": 13,
     "metadata": {},
     "output_type": "execute_result"
    }
   ],
   "source": [
    "def get_preds(t): return t.predict(X_valid)\n",
    "%time preds = np.stack(parallel_trees(m, get_preds))\n",
    "np.mean(preds[:,0]), np.std(preds[:,0])"
   ]
  },
  {
   "cell_type": "markdown",
   "metadata": {},
   "source": [
    "We can see that different trees are giving different estimates this this auction. In order to see how prediction confidence varies, we can add this into our dataset."
   ]
  },
  {
   "cell_type": "code",
   "execution_count": 14,
   "metadata": {},
   "outputs": [
    {
     "data": {
      "image/png": "[encoded data removed]",
      "text/plain": [
       "<Figure size 432x288 with 1 Axes>"
      ]
     },
     "metadata": {
      "needs_background": "light"
     },
     "output_type": "display_data"
    }
   ],
   "source": [
    "x = raw_valid.copy()\n",
    "x['pred_std'] = np.std(preds, axis=0)\n",
    "x['pred'] = np.mean(preds, axis=0)\n",
    "x.Enclosure.value_counts().plot.barh();"
   ]
  },
  {
   "cell_type": "code",
   "execution_count": 15,
   "metadata": {},
   "outputs": [
    {
     "data": {
      "text/html": [
       "<div>\n",
       "<style scoped>\n",
       "    .dataframe tbody tr th:only-of-type {\n",
       "        vertical-align: middle;\n",
       "    }\n",
       "\n",
       "    .dataframe tbody tr th {\n",
       "        vertical-align: top;\n",
       "    }\n",
       "\n",
       "    .dataframe thead th {\n",
       "        text-align: right;\n",
       "    }\n",
       "</style>\n",
       "<table border=\"1\" class=\"dataframe\">\n",
       "  <thead>\n",
       "    <tr style=\"text-align: right;\">\n",
       "      <th></th>\n",
       "      <th>Enclosure</th>\n",
       "      <th>SalePrice</th>\n",
       "      <th>pred</th>\n",
       "      <th>pred_std</th>\n",
       "    </tr>\n",
       "  </thead>\n",
       "  <tbody>\n",
       "    <tr>\n",
       "      <th>0</th>\n",
       "      <td>EROPS</td>\n",
       "      <td>9.849178</td>\n",
       "      <td>9.838943</td>\n",
       "      <td>0.274703</td>\n",
       "    </tr>\n",
       "    <tr>\n",
       "      <th>1</th>\n",
       "      <td>EROPS AC</td>\n",
       "      <td>NaN</td>\n",
       "      <td>NaN</td>\n",
       "      <td>NaN</td>\n",
       "    </tr>\n",
       "    <tr>\n",
       "      <th>2</th>\n",
       "      <td>EROPS w AC</td>\n",
       "      <td>10.623971</td>\n",
       "      <td>10.574482</td>\n",
       "      <td>0.268437</td>\n",
       "    </tr>\n",
       "    <tr>\n",
       "      <th>3</th>\n",
       "      <td>NO ROPS</td>\n",
       "      <td>NaN</td>\n",
       "      <td>NaN</td>\n",
       "      <td>NaN</td>\n",
       "    </tr>\n",
       "    <tr>\n",
       "      <th>4</th>\n",
       "      <td>None or Unspecified</td>\n",
       "      <td>NaN</td>\n",
       "      <td>NaN</td>\n",
       "      <td>NaN</td>\n",
       "    </tr>\n",
       "    <tr>\n",
       "      <th>5</th>\n",
       "      <td>OROPS</td>\n",
       "      <td>9.682064</td>\n",
       "      <td>9.679009</td>\n",
       "      <td>0.223487</td>\n",
       "    </tr>\n",
       "  </tbody>\n",
       "</table>\n",
       "</div>"
      ],
      "text/plain": [
       "             Enclosure  SalePrice       pred  pred_std\n",
       "0                EROPS   9.849178   9.838943  0.274703\n",
       "1             EROPS AC        NaN        NaN       NaN\n",
       "2           EROPS w AC  10.623971  10.574482  0.268437\n",
       "3              NO ROPS        NaN        NaN       NaN\n",
       "4  None or Unspecified        NaN        NaN       NaN\n",
       "5                OROPS   9.682064   9.679009  0.223487"
      ]
     },
     "execution_count": 15,
     "metadata": {},
     "output_type": "execute_result"
    }
   ],
   "source": [
    "flds = ['Enclosure', 'SalePrice', 'pred', 'pred_std']\n",
    "enc_summ = x[flds].groupby('Enclosure', as_index=False).mean()\n",
    "enc_summ"
   ]
  },
  {
   "cell_type": "code",
   "execution_count": 16,
   "metadata": {},
   "outputs": [
    {
     "data": {
      "image/png": "[encoded data removed]",
      "text/plain": [
       "<Figure size 432x288 with 1 Axes>"
      ]
     },
     "metadata": {
      "needs_background": "light"
     },
     "output_type": "display_data"
    }
   ],
   "source": [
    "enc_summ = enc_summ[~pd.isnull(enc_summ.SalePrice)]\n",
    "enc_summ.plot('Enclosure', 'SalePrice', 'barh', xlim=(0,11));"
   ]
  },
  {
   "cell_type": "code",
   "execution_count": 17,
   "metadata": {},
   "outputs": [
    {
     "data": {
      "image/png": "[encoded data removed]",
      "text/plain": [
       "<Figure size 432x288 with 1 Axes>"
      ]
     },
     "metadata": {
      "needs_background": "light"
     },
     "output_type": "display_data"
    }
   ],
   "source": [
    "enc_summ.plot('Enclosure', 'pred', 'barh', xerr='pred_std', alpha=0.6, xlim=(0,11));"
   ]
  },
  {
   "cell_type": "markdown",
   "metadata": {},
   "source": [
    "*Question*: Why are the predictions nearly exactly right, but the error bars are quite wide?"
   ]
  },
  {
   "cell_type": "code",
   "execution_count": 18,
   "metadata": {},
   "outputs": [
    {
     "data": {
      "image/png": "[encoded data removed]",
      "text/plain": [
       "<Figure size 432x288 with 1 Axes>"
      ]
     },
     "metadata": {
      "needs_background": "light"
     },
     "output_type": "display_data"
    }
   ],
   "source": [
    "raw_valid.ProductSize.value_counts().plot.barh();"
   ]
  },
  {
   "cell_type": "code",
   "execution_count": 19,
   "metadata": {},
   "outputs": [
    {
     "data": {
      "text/html": [
       "<div>\n",
       "<style scoped>\n",
       "    .dataframe tbody tr th:only-of-type {\n",
       "        vertical-align: middle;\n",
       "    }\n",
       "\n",
       "    .dataframe tbody tr th {\n",
       "        vertical-align: top;\n",
       "    }\n",
       "\n",
       "    .dataframe thead th {\n",
       "        text-align: right;\n",
       "    }\n",
       "</style>\n",
       "<table border=\"1\" class=\"dataframe\">\n",
       "  <thead>\n",
       "    <tr style=\"text-align: right;\">\n",
       "      <th></th>\n",
       "      <th>SalePrice</th>\n",
       "      <th>pred</th>\n",
       "      <th>pred_std</th>\n",
       "    </tr>\n",
       "    <tr>\n",
       "      <th>ProductSize</th>\n",
       "      <th></th>\n",
       "      <th></th>\n",
       "      <th></th>\n",
       "    </tr>\n",
       "  </thead>\n",
       "  <tbody>\n",
       "    <tr>\n",
       "      <th>Compact</th>\n",
       "      <td>9.735093</td>\n",
       "      <td>9.854365</td>\n",
       "      <td>0.322377</td>\n",
       "    </tr>\n",
       "    <tr>\n",
       "      <th>Large</th>\n",
       "      <td>10.470589</td>\n",
       "      <td>10.383576</td>\n",
       "      <td>0.363733</td>\n",
       "    </tr>\n",
       "    <tr>\n",
       "      <th>Large / Medium</th>\n",
       "      <td>10.691871</td>\n",
       "      <td>10.641542</td>\n",
       "      <td>0.302708</td>\n",
       "    </tr>\n",
       "    <tr>\n",
       "      <th>Medium</th>\n",
       "      <td>10.681511</td>\n",
       "      <td>10.621119</td>\n",
       "      <td>0.286168</td>\n",
       "    </tr>\n",
       "    <tr>\n",
       "      <th>Mini</th>\n",
       "      <td>9.535147</td>\n",
       "      <td>9.567873</td>\n",
       "      <td>0.249962</td>\n",
       "    </tr>\n",
       "    <tr>\n",
       "      <th>Small</th>\n",
       "      <td>10.324448</td>\n",
       "      <td>10.309286</td>\n",
       "      <td>0.311575</td>\n",
       "    </tr>\n",
       "  </tbody>\n",
       "</table>\n",
       "</div>"
      ],
      "text/plain": [
       "                SalePrice       pred  pred_std\n",
       "ProductSize                                   \n",
       "Compact          9.735093   9.854365  0.322377\n",
       "Large           10.470589  10.383576  0.363733\n",
       "Large / Medium  10.691871  10.641542  0.302708\n",
       "Medium          10.681511  10.621119  0.286168\n",
       "Mini             9.535147   9.567873  0.249962\n",
       "Small           10.324448  10.309286  0.311575"
      ]
     },
     "execution_count": 19,
     "metadata": {},
     "output_type": "execute_result"
    }
   ],
   "source": [
    "flds = ['ProductSize', 'SalePrice', 'pred', 'pred_std']\n",
    "summ = x[flds].groupby(flds[0]).mean()\n",
    "summ"
   ]
  },
  {
   "cell_type": "code",
   "execution_count": 20,
   "metadata": {},
   "outputs": [
    {
     "data": {
      "text/plain": [
       "ProductSize\n",
       "Large             0.035030\n",
       "Compact           0.032714\n",
       "Small             0.030223\n",
       "Large / Medium    0.028446\n",
       "Medium            0.026943\n",
       "Mini              0.026125\n",
       "dtype: float64"
      ]
     },
     "execution_count": 20,
     "metadata": {},
     "output_type": "execute_result"
    }
   ],
   "source": [
    "(summ.pred_std/summ.pred).sort_values(ascending=False)"
   ]
  },
  {
   "cell_type": "markdown",
   "metadata": {},
   "source": [
    "# Feature importance"
   ]
  },
  {
   "cell_type": "markdown",
   "metadata": {},
   "source": [
    "It's not normally enough to just to know that a model can make accurate predictions - we also want to know *how* it's making predictions. The most important way to see this is with *feature importance*."
   ]
  },
  {
   "cell_type": "code",
   "execution_count": 21,
   "metadata": {},
   "outputs": [
    {
     "data": {
      "text/html": [
       "<div>\n",
       "<style scoped>\n",
       "    .dataframe tbody tr th:only-of-type {\n",
       "        vertical-align: middle;\n",
       "    }\n",
       "\n",
       "    .dataframe tbody tr th {\n",
       "        vertical-align: top;\n",
       "    }\n",
       "\n",
       "    .dataframe thead th {\n",
       "        text-align: right;\n",
       "    }\n",
       "</style>\n",
       "<table border=\"1\" class=\"dataframe\">\n",
       "  <thead>\n",
       "    <tr style=\"text-align: right;\">\n",
       "      <th></th>\n",
       "      <th>cols</th>\n",
       "      <th>imp</th>\n",
       "    </tr>\n",
       "  </thead>\n",
       "  <tbody>\n",
       "    <tr>\n",
       "      <th>5</th>\n",
       "      <td>YearMade</td>\n",
       "      <td>0.174235</td>\n",
       "    </tr>\n",
       "    <tr>\n",
       "      <th>37</th>\n",
       "      <td>Coupler_System</td>\n",
       "      <td>0.129676</td>\n",
       "    </tr>\n",
       "    <tr>\n",
       "      <th>13</th>\n",
       "      <td>ProductSize</td>\n",
       "      <td>0.098547</td>\n",
       "    </tr>\n",
       "    <tr>\n",
       "      <th>14</th>\n",
       "      <td>fiProductClassDesc</td>\n",
       "      <td>0.077926</td>\n",
       "    </tr>\n",
       "    <tr>\n",
       "      <th>2</th>\n",
       "      <td>ModelID</td>\n",
       "      <td>0.054477</td>\n",
       "    </tr>\n",
       "    <tr>\n",
       "      <th>63</th>\n",
       "      <td>saleElapsed</td>\n",
       "      <td>0.050764</td>\n",
       "    </tr>\n",
       "    <tr>\n",
       "      <th>10</th>\n",
       "      <td>fiSecondaryDesc</td>\n",
       "      <td>0.043686</td>\n",
       "    </tr>\n",
       "    <tr>\n",
       "      <th>19</th>\n",
       "      <td>Enclosure</td>\n",
       "      <td>0.040649</td>\n",
       "    </tr>\n",
       "    <tr>\n",
       "      <th>39</th>\n",
       "      <td>Hydraulics_Flow</td>\n",
       "      <td>0.036059</td>\n",
       "    </tr>\n",
       "    <tr>\n",
       "      <th>8</th>\n",
       "      <td>fiModelDesc</td>\n",
       "      <td>0.033291</td>\n",
       "    </tr>\n",
       "  </tbody>\n",
       "</table>\n",
       "</div>"
      ],
      "text/plain": [
       "                  cols       imp\n",
       "5             YearMade  0.174235\n",
       "37      Coupler_System  0.129676\n",
       "13         ProductSize  0.098547\n",
       "14  fiProductClassDesc  0.077926\n",
       "2              ModelID  0.054477\n",
       "63         saleElapsed  0.050764\n",
       "10     fiSecondaryDesc  0.043686\n",
       "19           Enclosure  0.040649\n",
       "39     Hydraulics_Flow  0.036059\n",
       "8          fiModelDesc  0.033291"
      ]
     },
     "execution_count": 21,
     "metadata": {},
     "output_type": "execute_result"
    }
   ],
   "source": [
    "fi = rf_feat_importance(m, df_trn); fi[:10]"
   ]
  },
  {
   "cell_type": "code",
   "execution_count": 22,
   "metadata": {},
   "outputs": [
    {
     "data": {
      "image/png": "[encoded data removed]",
      "text/plain": [
       "<Figure size 720x432 with 1 Axes>"
      ]
     },
     "metadata": {
      "needs_background": "light"
     },
     "output_type": "display_data"
    }
   ],
   "source": [
    "fi.plot('cols', 'imp', figsize=(10,6), legend=False);"
   ]
  },
  {
   "cell_type": "code",
   "execution_count": 23,
   "metadata": {},
   "outputs": [],
   "source": [
    "def plot_fi(fi): return fi.plot('cols', 'imp', 'barh', figsize=(12,7), legend=False)"
   ]
  },
  {
   "cell_type": "code",
   "execution_count": 24,
   "metadata": {},
   "outputs": [
    {
     "data": {
      "image/png": "[encoded data removed]",
      "text/plain": [
       "<Figure size 864x504 with 1 Axes>"
      ]
     },
     "metadata": {
      "needs_background": "light"
     },
     "output_type": "display_data"
    }
   ],
   "source": [
    "plot_fi(fi[:30]);"
   ]
  },
  {
   "cell_type": "code",
   "execution_count": 25,
   "metadata": {},
   "outputs": [
    {
     "data": {
      "text/plain": [
       "24"
      ]
     },
     "execution_count": 25,
     "metadata": {},
     "output_type": "execute_result"
    }
   ],
   "source": [
    "to_keep = fi[fi.imp>0.005].cols; len(to_keep)"
   ]
  },
  {
   "cell_type": "code",
   "execution_count": 26,
   "metadata": {},
   "outputs": [],
   "source": [
    "df_keep = df_trn[to_keep].copy()\n",
    "X_train, X_valid = split_vals(df_keep, n_trn)"
   ]
  },
  {
   "cell_type": "code",
   "execution_count": 27,
   "metadata": {},
   "outputs": [
    {
     "name": "stdout",
     "output_type": "stream",
     "text": [
      "[0.20710888187837212, 0.24813783904149406, 0.910353719676911, 0.890040193856447, 0.8938693783937296]\n"
     ]
    }
   ],
   "source": [
    "m = RandomForestRegressor(n_estimators=40, min_samples_leaf=3, max_features=0.5,\n",
    "                          n_jobs=-1, oob_score=True)\n",
    "m.fit(X_train, y_train)\n",
    "print_score(m)"
   ]
  },
  {
   "cell_type": "code",
   "execution_count": 28,
   "metadata": {},
   "outputs": [
    {
     "data": {
      "image/png": "[encoded data removed]",
      "text/plain": [
       "<Figure size 864x504 with 1 Axes>"
      ]
     },
     "metadata": {
      "needs_background": "light"
     },
     "output_type": "display_data"
    }
   ],
   "source": [
    "fi = rf_feat_importance(m, df_keep)\n",
    "plot_fi(fi);"
   ]
  },
  {
   "cell_type": "markdown",
   "metadata": {},
   "source": [
    "## One-hot encoding"
   ]
  },
  {
   "cell_type": "markdown",
   "metadata": {},
   "source": [
    "proc_df's optional *max_n_cat* argument will turn some categorical variables into new columns.\n",
    "\n",
    "For example, the column **ProductSize** which has 6 categories:\n",
    "\n",
    "* Large\n",
    "* Large / Medium\n",
    "* Medium\n",
    "* Compact\n",
    "* Small\n",
    "* Mini\n",
    "\n",
    "gets turned into 6 new columns:\n",
    "\n",
    "* ProductSize_Large\n",
    "* ProductSize_Large / Medium\n",
    "* ProductSize_Medium\n",
    "* ProductSize_Compact\n",
    "* ProductSize_Small\n",
    "* ProductSize_Mini\n",
    "\n",
    "and the column **ProductSize** gets removed.\n",
    "\n",
    "It will only happen to columns whose number of categories is no bigger than the value of the *max_n_cat* argument.\n",
    "\n",
    "Now some of these new columns may prove to have more important features than in the earlier situation, where all categories were in one column."
   ]
  },
  {
   "cell_type": "code",
   "execution_count": 29,
   "metadata": {},
   "outputs": [
    {
     "name": "stdout",
     "output_type": "stream",
     "text": [
      "[0.20767794830312175, 0.25233930173759994, 0.9098604064642407, 0.8862849968001899, 0.8920930945211865]\n"
     ]
    }
   ],
   "source": [
    "df_trn2, y_trn, nas = proc_df(df_raw, 'SalePrice', max_n_cat=7)\n",
    "X_train, X_valid = split_vals(df_trn2, n_trn)\n",
    "\n",
    "m = RandomForestRegressor(n_estimators=40, min_samples_leaf=3, max_features=0.6, n_jobs=-1, oob_score=True)\n",
    "m.fit(X_train, y_train)\n",
    "print_score(m)"
   ]
  },
  {
   "cell_type": "code",
   "execution_count": 30,
   "metadata": {},
   "outputs": [
    {
     "data": {
      "image/png": "[encoded data removed]",
      "text/plain": [
       "<Figure size 864x504 with 1 Axes>"
      ]
     },
     "metadata": {
      "needs_background": "light"
     },
     "output_type": "display_data"
    }
   ],
   "source": [
    "fi = rf_feat_importance(m, df_trn2)\n",
    "plot_fi(fi[:25]);"
   ]
  },
  {
   "cell_type": "markdown",
   "metadata": {},
   "source": [
    "# Removing redundant features"
   ]
  },
  {
   "cell_type": "markdown",
   "metadata": {},
   "source": [
    "One thing that makes this harder to interpret is that there seem to be some variables with very similar meanings. Let's try to remove redundent features."
   ]
  },
  {
   "cell_type": "code",
   "execution_count": 31,
   "metadata": {},
   "outputs": [],
   "source": [
    "from scipy.cluster import hierarchy as hc"
   ]
  },
  {
   "cell_type": "code",
   "execution_count": 32,
   "metadata": {},
   "outputs": [
    {
     "data": {
      "image/png": "[encoded data removed]",
      "text/plain": [
       "<Figure size 1152x720 with 1 Axes>"
      ]
     },
     "metadata": {
      "needs_background": "light"
     },
     "output_type": "display_data"
    }
   ],
   "source": [
    "corr = np.round(scipy.stats.spearmanr(df_keep).correlation, 4)\n",
    "corr_condensed = hc.distance.squareform(1-corr)\n",
    "z = hc.linkage(corr_condensed, method='average')\n",
    "fig = plt.figure(figsize=(16,10))\n",
    "dendrogram = hc.dendrogram(z, labels=df_keep.columns, orientation='left', leaf_font_size=16)\n",
    "plt.show()"
   ]
  },
  {
   "cell_type": "markdown",
   "metadata": {},
   "source": [
    "Let's try removing some of these related features to see if the model can be simplified without impacting the accuracy."
   ]
  },
  {
   "cell_type": "code",
   "execution_count": 33,
   "metadata": {},
   "outputs": [],
   "source": [
    "def get_oob(df):\n",
    "    m = RandomForestRegressor(n_estimators=30, min_samples_leaf=5, max_features=0.6, n_jobs=-1, oob_score=True)\n",
    "    x, _ = split_vals(df, n_trn)\n",
    "    m.fit(x, y_train)\n",
    "    return m.oob_score_"
   ]
  },
  {
   "cell_type": "markdown",
   "metadata": {},
   "source": [
    "Here's our baseline."
   ]
  },
  {
   "cell_type": "code",
   "execution_count": 34,
   "metadata": {},
   "outputs": [
    {
     "data": {
      "text/plain": [
       "0.8903822357913279"
      ]
     },
     "execution_count": 34,
     "metadata": {},
     "output_type": "execute_result"
    }
   ],
   "source": [
    "get_oob(df_keep)"
   ]
  },
  {
   "cell_type": "markdown",
   "metadata": {},
   "source": [
    "Now we try removing each variable one at a time."
   ]
  },
  {
   "cell_type": "code",
   "execution_count": 35,
   "metadata": {},
   "outputs": [
    {
     "name": "stdout",
     "output_type": "stream",
     "text": [
      "saleYear 0.8881910626944712\n",
      "saleElapsed 0.8866384622802272\n",
      "fiModelDesc 0.8885252802662837\n",
      "fiBaseModel 0.889587840313343\n",
      "Grouser_Tracks 0.8904274144718959\n",
      "Coupler_System 0.8896264143603048\n"
     ]
    }
   ],
   "source": [
    "for c in ('saleYear', 'saleElapsed', 'fiModelDesc', 'fiBaseModel', 'Grouser_Tracks', 'Coupler_System'):\n",
    "    print(c, get_oob(df_keep.drop(c, axis=1)))"
   ]
  },
  {
   "cell_type": "markdown",
   "metadata": {},
   "source": [
    "It looks like we can try one from each group for removal. Let's see what that does."
   ]
  },
  {
   "cell_type": "code",
   "execution_count": 36,
   "metadata": {},
   "outputs": [
    {
     "data": {
      "text/plain": [
       "0.888406542468297"
      ]
     },
     "execution_count": 36,
     "metadata": {},
     "output_type": "execute_result"
    }
   ],
   "source": [
    "to_drop = ['saleYear', 'fiBaseModel', 'Grouser_Tracks']\n",
    "get_oob(df_keep.drop(to_drop, axis=1))"
   ]
  },
  {
   "cell_type": "markdown",
   "metadata": {},
   "source": [
    "Looking good! Let's use this dataframe from here. We'll save the list of columns so we can reuse it later."
   ]
  },
  {
   "cell_type": "code",
   "execution_count": 37,
   "metadata": {},
   "outputs": [],
   "source": [
    "df_keep.drop(to_drop, axis=1, inplace=True)\n",
    "X_train, X_valid = split_vals(df_keep, n_trn)"
   ]
  },
  {
   "cell_type": "code",
   "execution_count": 38,
   "metadata": {},
   "outputs": [],
   "source": [
    "np.save('tmp/keep_cols.npy', np.array(df_keep.columns))"
   ]
  },
  {
   "cell_type": "code",
   "execution_count": 39,
   "metadata": {},
   "outputs": [],
   "source": [
    "keep_cols = np.load('tmp/keep_cols.npy')\n",
    "df_keep = df_trn[keep_cols]"
   ]
  },
  {
   "cell_type": "markdown",
   "metadata": {},
   "source": [
    "And let's see how this model looks on the full dataset."
   ]
  },
  {
   "cell_type": "code",
   "execution_count": 40,
   "metadata": {},
   "outputs": [],
   "source": [
    "reset_rf_samples()"
   ]
  },
  {
   "cell_type": "code",
   "execution_count": 41,
   "metadata": {},
   "outputs": [
    {
     "name": "stdout",
     "output_type": "stream",
     "text": [
      "[0.1258211019641327, 0.22721207732949317, 0.9669141881974153, 0.9078042718545372, 0.908526223566178]\n"
     ]
    }
   ],
   "source": [
    "m = RandomForestRegressor(n_estimators=40, min_samples_leaf=3, max_features=0.5, n_jobs=-1, oob_score=True)\n",
    "m.fit(X_train, y_train)\n",
    "print_score(m)"
   ]
  },
  {
   "cell_type": "markdown",
   "metadata": {},
   "source": [
    "# Partial dependence"
   ]
  },
  {
   "cell_type": "code",
   "execution_count": 42,
   "metadata": {},
   "outputs": [
    {
     "ename": "ModuleNotFoundError",
     "evalue": "No module named 'pdpbox'",
     "output_type": "error",
     "traceback": [
      "\u001b[1;31m---------------------------------------------------------------------------\u001b[0m",
      "\u001b[1;31mModuleNotFoundError\u001b[0m                       Traceback (most recent call last)",
      "\u001b[1;32m<ipython-input-42-c99046110fa5>\u001b[0m in \u001b[0;36m<module>\u001b[1;34m\u001b[0m\n\u001b[1;32m----> 1\u001b[1;33m \u001b[1;32mfrom\u001b[0m \u001b[0mpdpbox\u001b[0m \u001b[1;32mimport\u001b[0m \u001b[0mpdp\u001b[0m\u001b[1;33m\u001b[0m\u001b[0m\n\u001b[0m\u001b[0;32m      2\u001b[0m \u001b[1;32mfrom\u001b[0m \u001b[0mplotnine\u001b[0m \u001b[1;32mimport\u001b[0m \u001b[1;33m*\u001b[0m\u001b[1;33m\u001b[0m\u001b[0m\n",
      "\u001b[1;31mModuleNotFoundError\u001b[0m: No module named 'pdpbox'"
     ]
    }
   ],
   "source": [
    "from pdpbox import pdp\n",
    "from plotnine import *"
   ]
  },
  {
   "cell_type": "code",
   "execution_count": 43,
   "metadata": {},
   "outputs": [],
   "source": [
    "set_rf_samples(50000)"
   ]
  },
  {
   "cell_type": "markdown",
   "metadata": {},
   "source": [
    "This next analysis will be a little easier if we use the 1-hot encoded categorical variables, so let's load them up again."
   ]
  },
  {
   "cell_type": "code",
   "execution_count": 44,
   "metadata": {},
   "outputs": [],
   "source": [
    "df_trn2, y_trn, nas = proc_df(df_raw, 'SalePrice', max_n_cat=7)\n",
    "X_train, X_valid = split_vals(df_trn2, n_trn)\n",
    "m = RandomForestRegressor(n_estimators=40, min_samples_leaf=3, max_features=0.6, n_jobs=-1)\n",
    "m.fit(X_train, y_train);"
   ]
  },
  {
   "cell_type": "code",
   "execution_count": 45,
   "metadata": {},
   "outputs": [
    {
     "data": {
      "image/png": "[encoded data removed]",
      "text/plain": [
       "<Figure size 864x504 with 1 Axes>"
      ]
     },
     "metadata": {
      "needs_background": "light"
     },
     "output_type": "display_data"
    }
   ],
   "source": [
    "plot_fi(rf_feat_importance(m, df_trn2)[:10]);"
   ]
  },
  {
   "cell_type": "code",
   "execution_count": 46,
   "metadata": {},
   "outputs": [
    {
     "data": {
      "image/png": "[encoded data removed]",
      "text/plain": [
       "<Figure size 720x576 with 1 Axes>"
      ]
     },
     "metadata": {
      "needs_background": "light"
     },
     "output_type": "display_data"
    }
   ],
   "source": [
    "df_raw.plot('YearMade', 'saleElapsed', 'scatter', alpha=0.01, figsize=(10,8));"
   ]
  },
  {
   "cell_type": "code",
   "execution_count": 47,
   "metadata": {},
   "outputs": [],
   "source": [
    "x_all = get_sample(df_raw[df_raw.YearMade>1930], 500)"
   ]
  },
  {
   "cell_type": "code",
   "execution_count": 48,
   "metadata": {},
   "outputs": [
    {
     "ename": "NameError",
     "evalue": "name 'ggplot' is not defined",
     "output_type": "error",
     "traceback": [
      "\u001b[1;31m---------------------------------------------------------------------------\u001b[0m",
      "\u001b[1;31mNameError\u001b[0m                                 Traceback (most recent call last)",
      "\u001b[1;32m<ipython-input-48-4a82c59c65ab>\u001b[0m in \u001b[0;36m<module>\u001b[1;34m\u001b[0m\n\u001b[1;32m----> 1\u001b[1;33m \u001b[0mggplot\u001b[0m\u001b[1;33m(\u001b[0m\u001b[0mx_all\u001b[0m\u001b[1;33m,\u001b[0m \u001b[0maes\u001b[0m\u001b[1;33m(\u001b[0m\u001b[1;34m'YearMade'\u001b[0m\u001b[1;33m,\u001b[0m \u001b[1;34m'SalePrice'\u001b[0m\u001b[1;33m)\u001b[0m\u001b[1;33m)\u001b[0m\u001b[1;33m+\u001b[0m\u001b[0mstat_smooth\u001b[0m\u001b[1;33m(\u001b[0m\u001b[0mse\u001b[0m\u001b[1;33m=\u001b[0m\u001b[1;32mTrue\u001b[0m\u001b[1;33m,\u001b[0m \u001b[0mmethod\u001b[0m\u001b[1;33m=\u001b[0m\u001b[1;34m'loess'\u001b[0m\u001b[1;33m)\u001b[0m\u001b[1;33m\u001b[0m\u001b[0m\n\u001b[0m",
      "\u001b[1;31mNameError\u001b[0m: name 'ggplot' is not defined"
     ]
    }
   ],
   "source": [
    "ggplot(x_all, aes('YearMade', 'SalePrice'))+stat_smooth(se=True, method='loess')"
   ]
  },
  {
   "cell_type": "code",
   "execution_count": 49,
   "metadata": {},
   "outputs": [],
   "source": [
    "x = get_sample(X_train[X_train.YearMade>1930], 500)"
   ]
  },
  {
   "cell_type": "code",
   "execution_count": 50,
   "metadata": {},
   "outputs": [],
   "source": [
    "def plot_pdp(feat, clusters=None, feat_name=None):\n",
    "    feat_name = feat_name or feat\n",
    "    p = pdp.pdp_isolate(m, x, x.columns, feat)\n",
    "    return pdp.pdp_plot(p, feat_name, plot_lines=True,\n",
    "                        cluster=clusters is not None,\n",
    "                        n_cluster_centers=clusters)"
   ]
  },
  {
   "cell_type": "code",
   "execution_count": 51,
   "metadata": {},
   "outputs": [
    {
     "ename": "NameError",
     "evalue": "name 'pdp' is not defined",
     "output_type": "error",
     "traceback": [
      "\u001b[1;31m---------------------------------------------------------------------------\u001b[0m",
      "\u001b[1;31mNameError\u001b[0m                                 Traceback (most recent call last)",
      "\u001b[1;32m<ipython-input-51-c4a157344b21>\u001b[0m in \u001b[0;36m<module>\u001b[1;34m\u001b[0m\n\u001b[1;32m----> 1\u001b[1;33m \u001b[0mplot_pdp\u001b[0m\u001b[1;33m(\u001b[0m\u001b[1;34m'YearMade'\u001b[0m\u001b[1;33m)\u001b[0m\u001b[1;33m\u001b[0m\u001b[0m\n\u001b[0m",
      "\u001b[1;32m<ipython-input-50-14ec432c4ea9>\u001b[0m in \u001b[0;36mplot_pdp\u001b[1;34m(feat, clusters, feat_name)\u001b[0m\n\u001b[0;32m      1\u001b[0m \u001b[1;32mdef\u001b[0m \u001b[0mplot_pdp\u001b[0m\u001b[1;33m(\u001b[0m\u001b[0mfeat\u001b[0m\u001b[1;33m,\u001b[0m \u001b[0mclusters\u001b[0m\u001b[1;33m=\u001b[0m\u001b[1;32mNone\u001b[0m\u001b[1;33m,\u001b[0m \u001b[0mfeat_name\u001b[0m\u001b[1;33m=\u001b[0m\u001b[1;32mNone\u001b[0m\u001b[1;33m)\u001b[0m\u001b[1;33m:\u001b[0m\u001b[1;33m\u001b[0m\u001b[0m\n\u001b[0;32m      2\u001b[0m     \u001b[0mfeat_name\u001b[0m \u001b[1;33m=\u001b[0m \u001b[0mfeat_name\u001b[0m \u001b[1;32mor\u001b[0m \u001b[0mfeat\u001b[0m\u001b[1;33m\u001b[0m\u001b[0m\n\u001b[1;32m----> 3\u001b[1;33m     \u001b[0mp\u001b[0m \u001b[1;33m=\u001b[0m \u001b[0mpdp\u001b[0m\u001b[1;33m.\u001b[0m\u001b[0mpdp_isolate\u001b[0m\u001b[1;33m(\u001b[0m\u001b[0mm\u001b[0m\u001b[1;33m,\u001b[0m \u001b[0mx\u001b[0m\u001b[1;33m,\u001b[0m \u001b[0mx\u001b[0m\u001b[1;33m.\u001b[0m\u001b[0mcolumns\u001b[0m\u001b[1;33m,\u001b[0m \u001b[0mfeat\u001b[0m\u001b[1;33m)\u001b[0m\u001b[1;33m\u001b[0m\u001b[0m\n\u001b[0m\u001b[0;32m      4\u001b[0m     return pdp.pdp_plot(p, feat_name, plot_lines=True,\n\u001b[0;32m      5\u001b[0m                         \u001b[0mcluster\u001b[0m\u001b[1;33m=\u001b[0m\u001b[0mclusters\u001b[0m \u001b[1;32mis\u001b[0m \u001b[1;32mnot\u001b[0m \u001b[1;32mNone\u001b[0m\u001b[1;33m,\u001b[0m\u001b[1;33m\u001b[0m\u001b[0m\n",
      "\u001b[1;31mNameError\u001b[0m: name 'pdp' is not defined"
     ]
    }
   ],
   "source": [
    "plot_pdp('YearMade')"
   ]
  },
  {
   "cell_type": "code",
   "execution_count": null,
   "metadata": {},
   "outputs": [],
   "source": [
    "plot_pdp('YearMade', clusters=5)"
   ]
  },
  {
   "cell_type": "code",
   "execution_count": 52,
   "metadata": {},
   "outputs": [
    {
     "ename": "NameError",
     "evalue": "name 'pdp' is not defined",
     "output_type": "error",
     "traceback": [
      "\u001b[1;31m---------------------------------------------------------------------------\u001b[0m",
      "\u001b[1;31mNameError\u001b[0m                                 Traceback (most recent call last)",
      "\u001b[1;32m<ipython-input-52-235ebd3b1e16>\u001b[0m in \u001b[0;36m<module>\u001b[1;34m\u001b[0m\n\u001b[0;32m      1\u001b[0m \u001b[0mfeats\u001b[0m \u001b[1;33m=\u001b[0m \u001b[1;33m[\u001b[0m\u001b[1;34m'saleElapsed'\u001b[0m\u001b[1;33m,\u001b[0m \u001b[1;34m'YearMade'\u001b[0m\u001b[1;33m]\u001b[0m\u001b[1;33m\u001b[0m\u001b[0m\n\u001b[1;32m----> 2\u001b[1;33m \u001b[0mp\u001b[0m \u001b[1;33m=\u001b[0m \u001b[0mpdp\u001b[0m\u001b[1;33m.\u001b[0m\u001b[0mpdp_interact\u001b[0m\u001b[1;33m(\u001b[0m\u001b[0mm\u001b[0m\u001b[1;33m,\u001b[0m \u001b[0mx\u001b[0m\u001b[1;33m,\u001b[0m \u001b[0mx\u001b[0m\u001b[1;33m.\u001b[0m\u001b[0mcolumns\u001b[0m\u001b[1;33m,\u001b[0m \u001b[0mfeats\u001b[0m\u001b[1;33m)\u001b[0m\u001b[1;33m\u001b[0m\u001b[0m\n\u001b[0m\u001b[0;32m      3\u001b[0m \u001b[0mpdp\u001b[0m\u001b[1;33m.\u001b[0m\u001b[0mpdp_interact_plot\u001b[0m\u001b[1;33m(\u001b[0m\u001b[0mp\u001b[0m\u001b[1;33m,\u001b[0m \u001b[0mfeats\u001b[0m\u001b[1;33m)\u001b[0m\u001b[1;33m\u001b[0m\u001b[0m\n",
      "\u001b[1;31mNameError\u001b[0m: name 'pdp' is not defined"
     ]
    }
   ],
   "source": [
    "feats = ['saleElapsed', 'YearMade']\n",
    "p = pdp.pdp_interact(m, x, x.columns, feats)\n",
    "pdp.pdp_interact_plot(p, feats)"
   ]
  },
  {
   "cell_type": "code",
   "execution_count": 53,
   "metadata": {},
   "outputs": [
    {
     "ename": "NameError",
     "evalue": "name 'pdp' is not defined",
     "output_type": "error",
     "traceback": [
      "\u001b[1;31m---------------------------------------------------------------------------\u001b[0m",
      "\u001b[1;31mNameError\u001b[0m                                 Traceback (most recent call last)",
      "\u001b[1;32m<ipython-input-53-75a1bc515f1f>\u001b[0m in \u001b[0;36m<module>\u001b[1;34m\u001b[0m\n\u001b[1;32m----> 1\u001b[1;33m \u001b[0mplot_pdp\u001b[0m\u001b[1;33m(\u001b[0m\u001b[1;33m[\u001b[0m\u001b[1;34m'Enclosure_EROPS w AC'\u001b[0m\u001b[1;33m,\u001b[0m \u001b[1;34m'Enclosure_EROPS'\u001b[0m\u001b[1;33m,\u001b[0m \u001b[1;34m'Enclosure_OROPS'\u001b[0m\u001b[1;33m]\u001b[0m\u001b[1;33m,\u001b[0m \u001b[1;36m5\u001b[0m\u001b[1;33m,\u001b[0m \u001b[1;34m'Enclosure'\u001b[0m\u001b[1;33m)\u001b[0m\u001b[1;33m\u001b[0m\u001b[0m\n\u001b[0m",
      "\u001b[1;32m<ipython-input-50-14ec432c4ea9>\u001b[0m in \u001b[0;36mplot_pdp\u001b[1;34m(feat, clusters, feat_name)\u001b[0m\n\u001b[0;32m      1\u001b[0m \u001b[1;32mdef\u001b[0m \u001b[0mplot_pdp\u001b[0m\u001b[1;33m(\u001b[0m\u001b[0mfeat\u001b[0m\u001b[1;33m,\u001b[0m \u001b[0mclusters\u001b[0m\u001b[1;33m=\u001b[0m\u001b[1;32mNone\u001b[0m\u001b[1;33m,\u001b[0m \u001b[0mfeat_name\u001b[0m\u001b[1;33m=\u001b[0m\u001b[1;32mNone\u001b[0m\u001b[1;33m)\u001b[0m\u001b[1;33m:\u001b[0m\u001b[1;33m\u001b[0m\u001b[0m\n\u001b[0;32m      2\u001b[0m     \u001b[0mfeat_name\u001b[0m \u001b[1;33m=\u001b[0m \u001b[0mfeat_name\u001b[0m \u001b[1;32mor\u001b[0m \u001b[0mfeat\u001b[0m\u001b[1;33m\u001b[0m\u001b[0m\n\u001b[1;32m----> 3\u001b[1;33m     \u001b[0mp\u001b[0m \u001b[1;33m=\u001b[0m \u001b[0mpdp\u001b[0m\u001b[1;33m.\u001b[0m\u001b[0mpdp_isolate\u001b[0m\u001b[1;33m(\u001b[0m\u001b[0mm\u001b[0m\u001b[1;33m,\u001b[0m \u001b[0mx\u001b[0m\u001b[1;33m,\u001b[0m \u001b[0mx\u001b[0m\u001b[1;33m.\u001b[0m\u001b[0mcolumns\u001b[0m\u001b[1;33m,\u001b[0m \u001b[0mfeat\u001b[0m\u001b[1;33m)\u001b[0m\u001b[1;33m\u001b[0m\u001b[0m\n\u001b[0m\u001b[0;32m      4\u001b[0m     return pdp.pdp_plot(p, feat_name, plot_lines=True,\n\u001b[0;32m      5\u001b[0m                         \u001b[0mcluster\u001b[0m\u001b[1;33m=\u001b[0m\u001b[0mclusters\u001b[0m \u001b[1;32mis\u001b[0m \u001b[1;32mnot\u001b[0m \u001b[1;32mNone\u001b[0m\u001b[1;33m,\u001b[0m\u001b[1;33m\u001b[0m\u001b[0m\n",
      "\u001b[1;31mNameError\u001b[0m: name 'pdp' is not defined"
     ]
    }
   ],
   "source": [
    "plot_pdp(['Enclosure_EROPS w AC', 'Enclosure_EROPS', 'Enclosure_OROPS'], 5, 'Enclosure')"
   ]
  },
  {
   "cell_type": "code",
   "execution_count": 54,
   "metadata": {},
   "outputs": [
    {
     "name": "stderr",
     "output_type": "stream",
     "text": [
      "D:\\Anaconda3\\lib\\site-packages\\ipykernel_launcher.py:1: SettingWithCopyWarning: \n",
      "A value is trying to be set on a copy of a slice from a DataFrame\n",
      "\n",
      "See the caveats in the documentation: http://pandas.pydata.org/pandas-docs/stable/indexing.html#indexing-view-versus-copy\n",
      "  \"\"\"Entry point for launching an IPython kernel.\n",
      "D:\\Anaconda3\\lib\\site-packages\\ipykernel_launcher.py:2: SettingWithCopyWarning: \n",
      "A value is trying to be set on a copy of a slice from a DataFrame.\n",
      "Try using .loc[row_indexer,col_indexer] = value instead\n",
      "\n",
      "See the caveats in the documentation: http://pandas.pydata.org/pandas-docs/stable/indexing.html#indexing-view-versus-copy\n",
      "  \n"
     ]
    }
   ],
   "source": [
    "df_raw.YearMade[df_raw.YearMade<1950] = 1950\n",
    "df_keep['age'] = df_raw['age'] = df_raw.saleYear-df_raw.YearMade"
   ]
  },
  {
   "cell_type": "code",
   "execution_count": 55,
   "metadata": {},
   "outputs": [
    {
     "data": {
      "image/png": "[encoded data removed]",
      "text/plain": [
       "<Figure size 864x504 with 1 Axes>"
      ]
     },
     "metadata": {
      "needs_background": "light"
     },
     "output_type": "display_data"
    }
   ],
   "source": [
    "X_train, X_valid = split_vals(df_keep, n_trn)\n",
    "m = RandomForestRegressor(n_estimators=40, min_samples_leaf=3, max_features=0.6, n_jobs=-1)\n",
    "m.fit(X_train, y_train)\n",
    "plot_fi(rf_feat_importance(m, df_keep));"
   ]
  },
  {
   "cell_type": "markdown",
   "metadata": {},
   "source": [
    "# Tree interpreter"
   ]
  },
  {
   "cell_type": "code",
   "execution_count": 56,
   "metadata": {},
   "outputs": [
    {
     "ename": "ModuleNotFoundError",
     "evalue": "No module named 'treeinterpreter'",
     "output_type": "error",
     "traceback": [
      "\u001b[1;31m---------------------------------------------------------------------------\u001b[0m",
      "\u001b[1;31mModuleNotFoundError\u001b[0m                       Traceback (most recent call last)",
      "\u001b[1;32m<ipython-input-56-666bbb927a87>\u001b[0m in \u001b[0;36m<module>\u001b[1;34m\u001b[0m\n\u001b[1;32m----> 1\u001b[1;33m \u001b[1;32mfrom\u001b[0m \u001b[0mtreeinterpreter\u001b[0m \u001b[1;32mimport\u001b[0m \u001b[0mtreeinterpreter\u001b[0m \u001b[1;32mas\u001b[0m \u001b[0mti\u001b[0m\u001b[1;33m\u001b[0m\u001b[0m\n\u001b[0m",
      "\u001b[1;31mModuleNotFoundError\u001b[0m: No module named 'treeinterpreter'"
     ]
    }
   ],
   "source": [
    "from treeinterpreter import treeinterpreter as ti"
   ]
  },
  {
   "cell_type": "code",
   "execution_count": 57,
   "metadata": {},
   "outputs": [],
   "source": [
    "df_train, df_valid = split_vals(df_raw[df_keep.columns], n_trn)"
   ]
  },
  {
   "cell_type": "code",
   "execution_count": 58,
   "metadata": {},
   "outputs": [
    {
     "data": {
      "text/plain": [
       "array([[      1999,          0,          5,         17,        665, 1284595200,          0,          1,\n",
       "                 0,       3232,    4364751,    2300944,          0,          4,          0,          4,\n",
       "                 0,         16,         35,        259,         12,         11]], dtype=int64)"
      ]
     },
     "execution_count": 58,
     "metadata": {},
     "output_type": "execute_result"
    }
   ],
   "source": [
    "row = X_valid.values[None,0]; row"
   ]
  },
  {
   "cell_type": "code",
   "execution_count": 59,
   "metadata": {},
   "outputs": [
    {
     "ename": "NameError",
     "evalue": "name 'ti' is not defined",
     "output_type": "error",
     "traceback": [
      "\u001b[1;31m---------------------------------------------------------------------------\u001b[0m",
      "\u001b[1;31mNameError\u001b[0m                                 Traceback (most recent call last)",
      "\u001b[1;32m<ipython-input-59-253b53741bbe>\u001b[0m in \u001b[0;36m<module>\u001b[1;34m\u001b[0m\n\u001b[1;32m----> 1\u001b[1;33m \u001b[0mprediction\u001b[0m\u001b[1;33m,\u001b[0m \u001b[0mbias\u001b[0m\u001b[1;33m,\u001b[0m \u001b[0mcontributions\u001b[0m \u001b[1;33m=\u001b[0m \u001b[0mti\u001b[0m\u001b[1;33m.\u001b[0m\u001b[0mpredict\u001b[0m\u001b[1;33m(\u001b[0m\u001b[0mm\u001b[0m\u001b[1;33m,\u001b[0m \u001b[0mrow\u001b[0m\u001b[1;33m)\u001b[0m\u001b[1;33m\u001b[0m\u001b[0m\n\u001b[0m",
      "\u001b[1;31mNameError\u001b[0m: name 'ti' is not defined"
     ]
    }
   ],
   "source": [
    "prediction, bias, contributions = ti.predict(m, row)"
   ]
  },
  {
   "cell_type": "code",
   "execution_count": 60,
   "metadata": {},
   "outputs": [
    {
     "ename": "NameError",
     "evalue": "name 'prediction' is not defined",
     "output_type": "error",
     "traceback": [
      "\u001b[1;31m---------------------------------------------------------------------------\u001b[0m",
      "\u001b[1;31mNameError\u001b[0m                                 Traceback (most recent call last)",
      "\u001b[1;32m<ipython-input-60-6d8146c5318f>\u001b[0m in \u001b[0;36m<module>\u001b[1;34m\u001b[0m\n\u001b[1;32m----> 1\u001b[1;33m \u001b[0mprediction\u001b[0m\u001b[1;33m[\u001b[0m\u001b[1;36m0\u001b[0m\u001b[1;33m]\u001b[0m\u001b[1;33m,\u001b[0m \u001b[0mbias\u001b[0m\u001b[1;33m[\u001b[0m\u001b[1;36m0\u001b[0m\u001b[1;33m]\u001b[0m\u001b[1;33m\u001b[0m\u001b[0m\n\u001b[0m",
      "\u001b[1;31mNameError\u001b[0m: name 'prediction' is not defined"
     ]
    }
   ],
   "source": [
    "prediction[0], bias[0]"
   ]
  },
  {
   "cell_type": "code",
   "execution_count": 61,
   "metadata": {},
   "outputs": [
    {
     "ename": "NameError",
     "evalue": "name 'contributions' is not defined",
     "output_type": "error",
     "traceback": [
      "\u001b[1;31m---------------------------------------------------------------------------\u001b[0m",
      "\u001b[1;31mNameError\u001b[0m                                 Traceback (most recent call last)",
      "\u001b[1;32m<ipython-input-61-ba2a4f809993>\u001b[0m in \u001b[0;36m<module>\u001b[1;34m\u001b[0m\n\u001b[1;32m----> 1\u001b[1;33m \u001b[0midxs\u001b[0m \u001b[1;33m=\u001b[0m \u001b[0mnp\u001b[0m\u001b[1;33m.\u001b[0m\u001b[0margsort\u001b[0m\u001b[1;33m(\u001b[0m\u001b[0mcontributions\u001b[0m\u001b[1;33m[\u001b[0m\u001b[1;36m0\u001b[0m\u001b[1;33m]\u001b[0m\u001b[1;33m)\u001b[0m\u001b[1;33m\u001b[0m\u001b[0m\n\u001b[0m",
      "\u001b[1;31mNameError\u001b[0m: name 'contributions' is not defined"
     ]
    }
   ],
   "source": [
    "idxs = np.argsort(contributions[0])"
   ]
  },
  {
   "cell_type": "code",
   "execution_count": 62,
   "metadata": {},
   "outputs": [
    {
     "ename": "NameError",
     "evalue": "name 'idxs' is not defined",
     "output_type": "error",
     "traceback": [
      "\u001b[1;31m---------------------------------------------------------------------------\u001b[0m",
      "\u001b[1;31mNameError\u001b[0m                                 Traceback (most recent call last)",
      "\u001b[1;32m<ipython-input-62-aa6d423ac29d>\u001b[0m in \u001b[0;36m<module>\u001b[1;34m\u001b[0m\n\u001b[1;32m----> 1\u001b[1;33m \u001b[1;33m[\u001b[0m\u001b[0mo\u001b[0m \u001b[1;32mfor\u001b[0m \u001b[0mo\u001b[0m \u001b[1;32min\u001b[0m \u001b[0mzip\u001b[0m\u001b[1;33m(\u001b[0m\u001b[0mdf_keep\u001b[0m\u001b[1;33m.\u001b[0m\u001b[0mcolumns\u001b[0m\u001b[1;33m[\u001b[0m\u001b[0midxs\u001b[0m\u001b[1;33m]\u001b[0m\u001b[1;33m,\u001b[0m \u001b[0mdf_valid\u001b[0m\u001b[1;33m.\u001b[0m\u001b[0miloc\u001b[0m\u001b[1;33m[\u001b[0m\u001b[1;36m0\u001b[0m\u001b[1;33m]\u001b[0m\u001b[1;33m[\u001b[0m\u001b[0midxs\u001b[0m\u001b[1;33m]\u001b[0m\u001b[1;33m,\u001b[0m \u001b[0mcontributions\u001b[0m\u001b[1;33m[\u001b[0m\u001b[1;36m0\u001b[0m\u001b[1;33m]\u001b[0m\u001b[1;33m[\u001b[0m\u001b[0midxs\u001b[0m\u001b[1;33m]\u001b[0m\u001b[1;33m)\u001b[0m\u001b[1;33m]\u001b[0m\u001b[1;33m\u001b[0m\u001b[0m\n\u001b[0m",
      "\u001b[1;31mNameError\u001b[0m: name 'idxs' is not defined"
     ]
    }
   ],
   "source": [
    "[o for o in zip(df_keep.columns[idxs], df_valid.iloc[0][idxs], contributions[0][idxs])]"
   ]
  },
  {
   "cell_type": "code",
   "execution_count": 63,
   "metadata": {},
   "outputs": [
    {
     "ename": "NameError",
     "evalue": "name 'contributions' is not defined",
     "output_type": "error",
     "traceback": [
      "\u001b[1;31m---------------------------------------------------------------------------\u001b[0m",
      "\u001b[1;31mNameError\u001b[0m                                 Traceback (most recent call last)",
      "\u001b[1;32m<ipython-input-63-912dd0d1b327>\u001b[0m in \u001b[0;36m<module>\u001b[1;34m\u001b[0m\n\u001b[1;32m----> 1\u001b[1;33m \u001b[0mcontributions\u001b[0m\u001b[1;33m[\u001b[0m\u001b[1;36m0\u001b[0m\u001b[1;33m]\u001b[0m\u001b[1;33m.\u001b[0m\u001b[0msum\u001b[0m\u001b[1;33m(\u001b[0m\u001b[1;33m)\u001b[0m\u001b[1;33m\u001b[0m\u001b[0m\n\u001b[0m",
      "\u001b[1;31mNameError\u001b[0m: name 'contributions' is not defined"
     ]
    }
   ],
   "source": [
    "contributions[0].sum()"
   ]
  },
  {
   "cell_type": "markdown",
   "metadata": {},
   "source": [
    "# Extrapolation"
   ]
  },
  {
   "cell_type": "code",
   "execution_count": 64,
   "metadata": {},
   "outputs": [
    {
     "name": "stderr",
     "output_type": "stream",
     "text": [
      "D:\\Anaconda3\\lib\\site-packages\\ipykernel_launcher.py:3: SettingWithCopyWarning: \n",
      "A value is trying to be set on a copy of a slice from a DataFrame\n",
      "\n",
      "See the caveats in the documentation: http://pandas.pydata.org/pandas-docs/stable/indexing.html#indexing-view-versus-copy\n",
      "  This is separate from the ipykernel package so we can avoid doing imports until\n"
     ]
    }
   ],
   "source": [
    "df_ext = df_keep.copy()\n",
    "df_ext['is_valid'] = 1\n",
    "df_ext.is_valid[:n_trn] = 0\n",
    "x, y, nas = proc_df(df_ext, 'is_valid')"
   ]
  },
  {
   "cell_type": "code",
   "execution_count": 65,
   "metadata": {},
   "outputs": [
    {
     "data": {
      "text/plain": [
       "0.9999875350576504"
      ]
     },
     "execution_count": 65,
     "metadata": {},
     "output_type": "execute_result"
    }
   ],
   "source": [
    "m = RandomForestClassifier(n_estimators=40, min_samples_leaf=3, max_features=0.5, n_jobs=-1, oob_score=True)\n",
    "m.fit(x, y);\n",
    "m.oob_score_"
   ]
  },
  {
   "cell_type": "code",
   "execution_count": 66,
   "metadata": {},
   "outputs": [
    {
     "data": {
      "text/html": [
       "<div>\n",
       "<style scoped>\n",
       "    .dataframe tbody tr th:only-of-type {\n",
       "        vertical-align: middle;\n",
       "    }\n",
       "\n",
       "    .dataframe tbody tr th {\n",
       "        vertical-align: top;\n",
       "    }\n",
       "\n",
       "    .dataframe thead th {\n",
       "        text-align: right;\n",
       "    }\n",
       "</style>\n",
       "<table border=\"1\" class=\"dataframe\">\n",
       "  <thead>\n",
       "    <tr style=\"text-align: right;\">\n",
       "      <th></th>\n",
       "      <th>cols</th>\n",
       "      <th>imp</th>\n",
       "    </tr>\n",
       "  </thead>\n",
       "  <tbody>\n",
       "    <tr>\n",
       "      <th>10</th>\n",
       "      <td>SalesID</td>\n",
       "      <td>0.759430</td>\n",
       "    </tr>\n",
       "    <tr>\n",
       "      <th>5</th>\n",
       "      <td>saleElapsed</td>\n",
       "      <td>0.181430</td>\n",
       "    </tr>\n",
       "    <tr>\n",
       "      <th>11</th>\n",
       "      <td>MachineID</td>\n",
       "      <td>0.045951</td>\n",
       "    </tr>\n",
       "    <tr>\n",
       "      <th>9</th>\n",
       "      <td>fiModelDesc</td>\n",
       "      <td>0.002585</td>\n",
       "    </tr>\n",
       "    <tr>\n",
       "      <th>0</th>\n",
       "      <td>YearMade</td>\n",
       "      <td>0.002430</td>\n",
       "    </tr>\n",
       "    <tr>\n",
       "      <th>4</th>\n",
       "      <td>ModelID</td>\n",
       "      <td>0.002399</td>\n",
       "    </tr>\n",
       "    <tr>\n",
       "      <th>19</th>\n",
       "      <td>saleDayofyear</td>\n",
       "      <td>0.001987</td>\n",
       "    </tr>\n",
       "    <tr>\n",
       "      <th>20</th>\n",
       "      <td>Hydraulics</td>\n",
       "      <td>0.001296</td>\n",
       "    </tr>\n",
       "    <tr>\n",
       "      <th>6</th>\n",
       "      <td>fiSecondaryDesc</td>\n",
       "      <td>0.000571</td>\n",
       "    </tr>\n",
       "    <tr>\n",
       "      <th>17</th>\n",
       "      <td>saleDay</td>\n",
       "      <td>0.000360</td>\n",
       "    </tr>\n",
       "  </tbody>\n",
       "</table>\n",
       "</div>"
      ],
      "text/plain": [
       "               cols       imp\n",
       "10          SalesID  0.759430\n",
       "5       saleElapsed  0.181430\n",
       "11        MachineID  0.045951\n",
       "9       fiModelDesc  0.002585\n",
       "0          YearMade  0.002430\n",
       "4           ModelID  0.002399\n",
       "19    saleDayofyear  0.001987\n",
       "20       Hydraulics  0.001296\n",
       "6   fiSecondaryDesc  0.000571\n",
       "17          saleDay  0.000360"
      ]
     },
     "execution_count": 66,
     "metadata": {},
     "output_type": "execute_result"
    }
   ],
   "source": [
    "fi = rf_feat_importance(m, x); fi[:10]"
   ]
  },
  {
   "cell_type": "code",
   "execution_count": 67,
   "metadata": {},
   "outputs": [],
   "source": [
    "feats=['SalesID', 'saleElapsed', 'MachineID']"
   ]
  },
  {
   "cell_type": "code",
   "execution_count": 68,
   "metadata": {},
   "outputs": [
    {
     "data": {
      "text/html": [
       "<div>\n",
       "<style scoped>\n",
       "    .dataframe tbody tr th:only-of-type {\n",
       "        vertical-align: middle;\n",
       "    }\n",
       "\n",
       "    .dataframe tbody tr th {\n",
       "        vertical-align: top;\n",
       "    }\n",
       "\n",
       "    .dataframe thead th {\n",
       "        text-align: right;\n",
       "    }\n",
       "</style>\n",
       "<table border=\"1\" class=\"dataframe\">\n",
       "  <thead>\n",
       "    <tr style=\"text-align: right;\">\n",
       "      <th></th>\n",
       "      <th>SalesID</th>\n",
       "      <th>saleElapsed</th>\n",
       "      <th>MachineID</th>\n",
       "    </tr>\n",
       "  </thead>\n",
       "  <tbody>\n",
       "    <tr>\n",
       "      <th>count</th>\n",
       "      <td>389125.000000</td>\n",
       "      <td>3.891250e+05</td>\n",
       "      <td>389125.000000</td>\n",
       "    </tr>\n",
       "    <tr>\n",
       "      <th>mean</th>\n",
       "      <td>1800.452485</td>\n",
       "      <td>1.084797e+06</td>\n",
       "      <td>1206.796148</td>\n",
       "    </tr>\n",
       "    <tr>\n",
       "      <th>std</th>\n",
       "      <td>595.627288</td>\n",
       "      <td>1.803913e+05</td>\n",
       "      <td>430.850552</td>\n",
       "    </tr>\n",
       "    <tr>\n",
       "      <th>min</th>\n",
       "      <td>1139.246000</td>\n",
       "      <td>6.009984e+05</td>\n",
       "      <td>0.000000</td>\n",
       "    </tr>\n",
       "    <tr>\n",
       "      <th>25%</th>\n",
       "      <td>1413.348000</td>\n",
       "      <td>9.666432e+05</td>\n",
       "      <td>1087.016000</td>\n",
       "    </tr>\n",
       "    <tr>\n",
       "      <th>50%</th>\n",
       "      <td>1632.093000</td>\n",
       "      <td>1.134605e+06</td>\n",
       "      <td>1273.859000</td>\n",
       "    </tr>\n",
       "    <tr>\n",
       "      <th>75%</th>\n",
       "      <td>2210.453000</td>\n",
       "      <td>1.234138e+06</td>\n",
       "      <td>1458.661000</td>\n",
       "    </tr>\n",
       "    <tr>\n",
       "      <th>max</th>\n",
       "      <td>4364.741000</td>\n",
       "      <td>1.325117e+06</td>\n",
       "      <td>2313.821000</td>\n",
       "    </tr>\n",
       "  </tbody>\n",
       "</table>\n",
       "</div>"
      ],
      "text/plain": [
       "             SalesID   saleElapsed      MachineID\n",
       "count  389125.000000  3.891250e+05  389125.000000\n",
       "mean     1800.452485  1.084797e+06    1206.796148\n",
       "std       595.627288  1.803913e+05     430.850552\n",
       "min      1139.246000  6.009984e+05       0.000000\n",
       "25%      1413.348000  9.666432e+05    1087.016000\n",
       "50%      1632.093000  1.134605e+06    1273.859000\n",
       "75%      2210.453000  1.234138e+06    1458.661000\n",
       "max      4364.741000  1.325117e+06    2313.821000"
      ]
     },
     "execution_count": 68,
     "metadata": {},
     "output_type": "execute_result"
    }
   ],
   "source": [
    "(X_train[feats]/1000).describe()"
   ]
  },
  {
   "cell_type": "code",
   "execution_count": 69,
   "metadata": {},
   "outputs": [
    {
     "data": {
      "text/html": [
       "<div>\n",
       "<style scoped>\n",
       "    .dataframe tbody tr th:only-of-type {\n",
       "        vertical-align: middle;\n",
       "    }\n",
       "\n",
       "    .dataframe tbody tr th {\n",
       "        vertical-align: top;\n",
       "    }\n",
       "\n",
       "    .dataframe thead th {\n",
       "        text-align: right;\n",
       "    }\n",
       "</style>\n",
       "<table border=\"1\" class=\"dataframe\">\n",
       "  <thead>\n",
       "    <tr style=\"text-align: right;\">\n",
       "      <th></th>\n",
       "      <th>SalesID</th>\n",
       "      <th>saleElapsed</th>\n",
       "      <th>MachineID</th>\n",
       "    </tr>\n",
       "  </thead>\n",
       "  <tbody>\n",
       "    <tr>\n",
       "      <th>count</th>\n",
       "      <td>12000.000000</td>\n",
       "      <td>1.200000e+04</td>\n",
       "      <td>12000.000000</td>\n",
       "    </tr>\n",
       "    <tr>\n",
       "      <th>mean</th>\n",
       "      <td>5786.967651</td>\n",
       "      <td>1.306609e+06</td>\n",
       "      <td>1578.049709</td>\n",
       "    </tr>\n",
       "    <tr>\n",
       "      <th>std</th>\n",
       "      <td>836.899608</td>\n",
       "      <td>2.497808e+04</td>\n",
       "      <td>589.497173</td>\n",
       "    </tr>\n",
       "    <tr>\n",
       "      <th>min</th>\n",
       "      <td>4364.751000</td>\n",
       "      <td>1.174522e+06</td>\n",
       "      <td>0.830000</td>\n",
       "    </tr>\n",
       "    <tr>\n",
       "      <th>25%</th>\n",
       "      <td>4408.580750</td>\n",
       "      <td>1.309219e+06</td>\n",
       "      <td>1271.225250</td>\n",
       "    </tr>\n",
       "    <tr>\n",
       "      <th>50%</th>\n",
       "      <td>6272.538500</td>\n",
       "      <td>1.316045e+06</td>\n",
       "      <td>1825.317000</td>\n",
       "    </tr>\n",
       "    <tr>\n",
       "      <th>75%</th>\n",
       "      <td>6291.792250</td>\n",
       "      <td>1.321402e+06</td>\n",
       "      <td>1907.858000</td>\n",
       "    </tr>\n",
       "    <tr>\n",
       "      <th>max</th>\n",
       "      <td>6333.342000</td>\n",
       "      <td>1.325203e+06</td>\n",
       "      <td>2486.330000</td>\n",
       "    </tr>\n",
       "  </tbody>\n",
       "</table>\n",
       "</div>"
      ],
      "text/plain": [
       "            SalesID   saleElapsed     MachineID\n",
       "count  12000.000000  1.200000e+04  12000.000000\n",
       "mean    5786.967651  1.306609e+06   1578.049709\n",
       "std      836.899608  2.497808e+04    589.497173\n",
       "min     4364.751000  1.174522e+06      0.830000\n",
       "25%     4408.580750  1.309219e+06   1271.225250\n",
       "50%     6272.538500  1.316045e+06   1825.317000\n",
       "75%     6291.792250  1.321402e+06   1907.858000\n",
       "max     6333.342000  1.325203e+06   2486.330000"
      ]
     },
     "execution_count": 69,
     "metadata": {},
     "output_type": "execute_result"
    }
   ],
   "source": [
    "(X_valid[feats]/1000).describe()"
   ]
  },
  {
   "cell_type": "code",
   "execution_count": 70,
   "metadata": {},
   "outputs": [],
   "source": [
    "x.drop(feats, axis=1, inplace=True)"
   ]
  },
  {
   "cell_type": "code",
   "execution_count": 71,
   "metadata": {},
   "outputs": [
    {
     "data": {
      "text/plain": [
       "0.9788021190401994"
      ]
     },
     "execution_count": 71,
     "metadata": {},
     "output_type": "execute_result"
    }
   ],
   "source": [
    "m = RandomForestClassifier(n_estimators=40, min_samples_leaf=3, max_features=0.5, n_jobs=-1, oob_score=True)\n",
    "m.fit(x, y);\n",
    "m.oob_score_"
   ]
  },
  {
   "cell_type": "code",
   "execution_count": 72,
   "metadata": {},
   "outputs": [
    {
     "data": {
      "text/html": [
       "<div>\n",
       "<style scoped>\n",
       "    .dataframe tbody tr th:only-of-type {\n",
       "        vertical-align: middle;\n",
       "    }\n",
       "\n",
       "    .dataframe tbody tr th {\n",
       "        vertical-align: top;\n",
       "    }\n",
       "\n",
       "    .dataframe thead th {\n",
       "        text-align: right;\n",
       "    }\n",
       "</style>\n",
       "<table border=\"1\" class=\"dataframe\">\n",
       "  <thead>\n",
       "    <tr style=\"text-align: right;\">\n",
       "      <th></th>\n",
       "      <th>cols</th>\n",
       "      <th>imp</th>\n",
       "    </tr>\n",
       "  </thead>\n",
       "  <tbody>\n",
       "    <tr>\n",
       "      <th>18</th>\n",
       "      <td>age</td>\n",
       "      <td>0.226434</td>\n",
       "    </tr>\n",
       "    <tr>\n",
       "      <th>0</th>\n",
       "      <td>YearMade</td>\n",
       "      <td>0.180046</td>\n",
       "    </tr>\n",
       "    <tr>\n",
       "      <th>16</th>\n",
       "      <td>saleDayofyear</td>\n",
       "      <td>0.168632</td>\n",
       "    </tr>\n",
       "    <tr>\n",
       "      <th>4</th>\n",
       "      <td>ModelID</td>\n",
       "      <td>0.075958</td>\n",
       "    </tr>\n",
       "    <tr>\n",
       "      <th>8</th>\n",
       "      <td>fiModelDesc</td>\n",
       "      <td>0.066691</td>\n",
       "    </tr>\n",
       "    <tr>\n",
       "      <th>14</th>\n",
       "      <td>saleDay</td>\n",
       "      <td>0.057935</td>\n",
       "    </tr>\n",
       "    <tr>\n",
       "      <th>15</th>\n",
       "      <td>state</td>\n",
       "      <td>0.056006</td>\n",
       "    </tr>\n",
       "    <tr>\n",
       "      <th>3</th>\n",
       "      <td>fiProductClassDesc</td>\n",
       "      <td>0.031514</td>\n",
       "    </tr>\n",
       "    <tr>\n",
       "      <th>5</th>\n",
       "      <td>fiSecondaryDesc</td>\n",
       "      <td>0.025285</td>\n",
       "    </tr>\n",
       "    <tr>\n",
       "      <th>6</th>\n",
       "      <td>Enclosure</td>\n",
       "      <td>0.021732</td>\n",
       "    </tr>\n",
       "  </tbody>\n",
       "</table>\n",
       "</div>"
      ],
      "text/plain": [
       "                  cols       imp\n",
       "18                 age  0.226434\n",
       "0             YearMade  0.180046\n",
       "16       saleDayofyear  0.168632\n",
       "4              ModelID  0.075958\n",
       "8          fiModelDesc  0.066691\n",
       "14             saleDay  0.057935\n",
       "15               state  0.056006\n",
       "3   fiProductClassDesc  0.031514\n",
       "5      fiSecondaryDesc  0.025285\n",
       "6            Enclosure  0.021732"
      ]
     },
     "execution_count": 72,
     "metadata": {},
     "output_type": "execute_result"
    }
   ],
   "source": [
    "fi = rf_feat_importance(m, x); fi[:10]"
   ]
  },
  {
   "cell_type": "code",
   "execution_count": 73,
   "metadata": {},
   "outputs": [],
   "source": [
    "set_rf_samples(50000)"
   ]
  },
  {
   "cell_type": "code",
   "execution_count": 74,
   "metadata": {},
   "outputs": [],
   "source": [
    "feats=['SalesID', 'saleElapsed', 'MachineID', 'age', 'YearMade', 'saleDayofyear']"
   ]
  },
  {
   "cell_type": "code",
   "execution_count": 75,
   "metadata": {},
   "outputs": [
    {
     "name": "stdout",
     "output_type": "stream",
     "text": [
      "[0.20767016313655545, 0.24771524762857264, 0.9098671644142536, 0.8904144092624812, 0.8932737207090795]\n"
     ]
    }
   ],
   "source": [
    "X_train, X_valid = split_vals(df_keep, n_trn)\n",
    "m = RandomForestRegressor(n_estimators=40, min_samples_leaf=3, max_features=0.5, n_jobs=-1, oob_score=True)\n",
    "m.fit(X_train, y_train)\n",
    "print_score(m)"
   ]
  },
  {
   "cell_type": "code",
   "execution_count": 76,
   "metadata": {},
   "outputs": [
    {
     "name": "stdout",
     "output_type": "stream",
     "text": [
      "SalesID\n",
      "[0.20892930545653, 0.24450460907864138, 0.9087708670786842, 0.8932366790040145, 0.8926354625782736]\n",
      "saleElapsed\n",
      "[0.2140551171169432, 0.25387587157224534, 0.9042395772159981, 0.884895890645328, 0.8871630767435364]\n",
      "MachineID\n",
      "[0.2069429826304438, 0.2456451827293002, 0.9104972798548552, 0.8922382892144798, 0.8948380846838708]\n",
      "age\n",
      "[0.2090333835122824, 0.24741128646741242, 0.9086799529226754, 0.8906831801775332, 0.8921875317043452]\n",
      "YearMade\n",
      "[0.20970853872273426, 0.2517724830616584, 0.908089092511896, 0.8867952890535538, 0.8914934108974302]\n",
      "saleDayofyear\n",
      "[0.20856381304193605, 0.24428791664694638, 0.909089772950416, 0.8934258333280106, 0.8931267790708686]\n"
     ]
    }
   ],
   "source": [
    "for f in feats:\n",
    "    df_subs = df_keep.drop(f, axis=1)\n",
    "    X_train, X_valid = split_vals(df_subs, n_trn)\n",
    "    m = RandomForestRegressor(n_estimators=40, min_samples_leaf=3, max_features=0.5, n_jobs=-1, oob_score=True)\n",
    "    m.fit(X_train, y_train)\n",
    "    print(f)\n",
    "    print_score(m)"
   ]
  },
  {
   "cell_type": "code",
   "execution_count": 77,
   "metadata": {},
   "outputs": [],
   "source": [
    "reset_rf_samples()"
   ]
  },
  {
   "cell_type": "code",
   "execution_count": 78,
   "metadata": {},
   "outputs": [
    {
     "name": "stdout",
     "output_type": "stream",
     "text": [
      "[0.1386859320076359, 0.21897289411968052, 0.9598024443642277, 0.9143694584219172, 0.9088751870163359]\n"
     ]
    }
   ],
   "source": [
    "df_subs = df_keep.drop(['SalesID', 'MachineID', 'saleDayofyear'], axis=1)\n",
    "X_train, X_valid = split_vals(df_subs, n_trn)\n",
    "m = RandomForestRegressor(n_estimators=40, min_samples_leaf=3, max_features=0.5, n_jobs=-1, oob_score=True)\n",
    "m.fit(X_train, y_train)\n",
    "print_score(m)"
   ]
  },
  {
   "cell_type": "code",
   "execution_count": 79,
   "metadata": {},
   "outputs": [
    {
     "data": {
      "image/png": "[encoded data removed]",
      "text/plain": [
       "<Figure size 864x504 with 1 Axes>"
      ]
     },
     "metadata": {
      "needs_background": "light"
     },
     "output_type": "display_data"
    }
   ],
   "source": [
    "plot_fi(rf_feat_importance(m, X_train));"
   ]
  },
  {
   "cell_type": "code",
   "execution_count": 80,
   "metadata": {},
   "outputs": [],
   "source": [
    "np.save('tmp/subs_cols.npy', np.array(df_subs.columns))"
   ]
  },
  {
   "cell_type": "markdown",
   "metadata": {},
   "source": [
    "# Our final model!"
   ]
  },
  {
   "cell_type": "code",
   "execution_count": 81,
   "metadata": {},
   "outputs": [
    {
     "name": "stdout",
     "output_type": "stream",
     "text": [
      "Wall time: 1min 6s\n",
      "[0.08014874374380855, 0.21098889959265973, 0.9865745681221073, 0.920499989107325, 0.9146656943512242]\n"
     ]
    }
   ],
   "source": [
    "m = RandomForestRegressor(n_estimators=160, max_features=0.5, n_jobs=-1, oob_score=True)\n",
    "%time m.fit(X_train, y_train)\n",
    "print_score(m)"
   ]
  },
  {
   "cell_type": "code",
   "execution_count": null,
   "metadata": {},
   "outputs": [],
   "source": []
  }
 ],
 "metadata": {
  "kernelspec": {
   "display_name": "Python 3",
   "language": "python",
   "name": "python3"
  },
  "language_info": {
   "codemirror_mode": {
    "name": "ipython",
    "version": 3
   },
   "file_extension": ".py",
   "mimetype": "text/x-python",
   "name": "python",
   "nbconvert_exporter": "python",
   "pygments_lexer": "ipython3",
   "version": "3.6.6"
  }
 },
 "nbformat": 4,
 "nbformat_minor": 2
}
